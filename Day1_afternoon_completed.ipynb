{
 "cells": [
  {
   "cell_type": "markdown",
   "id": "955c2dff-77bb-408b-b490-0c139add4405",
   "metadata": {},
   "source": [
    "# Introduction to Python for Digital Humanities\n",
    "The Digital Humanities (DH) is an interdisciplinary field that brings together computational tools and methods with traditional disciplines in the humanities, such as history, literature, art history, linguistics, philosophy, and cultural studies. As the volume of digital cultural content grows—such as digitized manuscripts, historical records, social media posts, and multimedia archives—the need to process, analyze, and interpret these materials using digital tools becomes increasingly important.\n",
    "\n",
    "### Why Use Python in the Digital Humanities?\n",
    "\n",
    "Python has emerged as a key language in DH because it is:\n",
    "\n",
    "- **Easy to Read and Write:** Python’s clean syntax makes it approachable, especially for scholars without a computer science background.\n",
    "- **Widely Supported:** Python has a vibrant global community and extensive online documentation, tutorials, and forums.\n",
    "- **Rich in Libraries:** There are many ready-to-use libraries for working with text, data, images, sound, and even geographic information.\n",
    "- **Flexible and Powerful:** Python can be used for small tasks like file renaming, or large-scale tasks like building full text analysis pipelines or interactive web applications.\n",
    "- **Interoperable:** Python can work with many different file formats (e.g., CSV, XML, JSON, PDF, images) and integrate with other tools commonly used in humanities research.\n",
    "\n",
    "### Practical Applications of Python in DH\n",
    "\n",
    "Using Python, digital humanists can:\n",
    "\n",
    "- **Analyze Large Text Corpora:** Quickly process thousands of pages to extract keywords, count word frequencies, detect sentiment, or classify genres.\n",
    "- **Explore Historical Patterns:** Visualize trends over time using data from newspapers, census records, or personal letters.\n",
    "- **Build Digital Exhibits:** Combine historical images, audio clips, and data visualizations in an interactive website.\n",
    "- **Transcribe and Clean Data:** Automate OCR cleanup, remove metadata noise, or reformat archival information.\n",
    "- **Perform Network Analysis:** Study connections between people, places, or concepts across time using network graphs.\n",
    "- **Map Cultural Content:** Use Python’s geospatial libraries to create maps that show the spread of artistic movements, migration patterns, or historical events.\n",
    "\n",
    "### Real-World Examples:\n",
    "\n",
    "- **Text Mining:** Identify recurring phrases and topics in a century's worth of digitized books.\n",
    "- **Social Media Analysis:** Study public sentiment and discourse during key cultural or political events.\n",
    "- **Metadata Curation:** Automatically extract, clean, and organize metadata from thousands of image or document files.\n",
    "- **Historical Visualization:** Animate the rise and fall of empires using historical timelines and geographic data.\n",
    "- **Interactive Archives:** Create searchable digital editions of rare manuscripts using Python web frameworks.\n",
    "\n",
    "By learning Python, researchers in the humanities gain a set of tools to extend their traditional methods, handle complex datasets, and share their work in innovative and engaging ways."
   ]
  },
  {
   "cell_type": "markdown",
   "id": "c1ca4e86-96a2-4efe-b113-a88204a1fa0a",
   "metadata": {},
   "source": [
    "## Introduction to JupyterLab\n",
    "JupyterLab is an interactive computing environment that allows you to create and share documents containing live code, equations, visualizations, and narrative text. It is commonly used in data science, research, and education, especially for projects in the Digital Humanities, because of its flexibility and ease of use. JupyterLab is essentially an upgrade of Jupyter Notebooks, providing a more modular and feature-rich interface."
   ]
  },
  {
   "cell_type": "markdown",
   "id": "c283dd9a-2eba-4e46-9e8a-6ed2c69e4057",
   "metadata": {},
   "source": [
    "### Key Features of JupyterLab:\n",
    "- **Code cells:** These are cells where you write and execute code.\n",
    "- **Markdown cells:** These cells are used for explanatory text, formatted using Markdown.\n",
    "- **Rich outputs:** Visualizations, graphs, images, and other media can be displayed inline within the notebook.\n",
    "- **File management:** JupyterLab has a built-in file browser that allows you to organize and manage notebooks, text files, images, and other resources.\n",
    "\n",
    "### How to Add Cells in JupyterLab\n",
    "In JupyterLab, cells are the building blocks of your notebook. You can add, delete, and modify cells to create a flow between code execution and explanatory text.\n",
    "\n",
    "#### Adding Cells:\n",
    "1. **Via Menu:** Navigate to the top menu: *Insert → Insert Cell Below or Insert → Insert Cell Above.*\n",
    "\n",
    "2. **Keyboard Shortcuts:** *Press B* to insert a cell below the current one or *A* to insert a cell above.\n",
    "\n",
    "3. **Clicking Buttons:** Use the \"+\" button in the toolbar to insert new cells.\n",
    "\n",
    "#### Switching Between Cell Types (Code and Markdown):\n",
    "You can switch between code cells and markdown cells to organize your content effectively.\n",
    "\n",
    "1. **To Change a Cell Type to Code:**\n",
    "\n",
    "-  Select the cell and *press Y*.\n",
    "- Alternatively, click on the Cell Type dropdown menu in the toolbar (where \"Markdown\" is by default) and select Code.\n",
    "\n",
    "2. **To Change a Cell Type to Markdown:**\n",
    "\n",
    "- Select the cell and *press M*.\n",
    "- Alternatively, use the Cell Type dropdown and select Markdown.\n",
    "\n",
    "This allows you to seamlessly switch between running code and writing descriptive text.\n",
    "\n",
    "#### Running and Stopping Cells\n",
    "Cells in JupyterLab can either be run (executed) or stopped, depending on whether you want to see the result of the code.\n",
    "\n",
    "1. **Running Cells:**\n",
    "To execute a cell, you can:\n",
    "\n",
    "- Windows/Linux: Press *Shift + Enter* to run the current cell and move to the next.\n",
    "\n",
    "- Mac: Press *Shift + Enter* to run the current cell and move to the next. You can also use *command + Enter* to run the cell and stay in that cell. \n",
    "\n",
    "- Alternatively, click the *Run* button in the toolbar.\n",
    "\n",
    "2. **Stopping a Cell:**\n",
    "If you want to stop the execution of a cell:\n",
    "\n",
    "- Navigate to *Kernel → Interrupt* in the top menu or use the Stop button in the toolbar.\n",
    "\n",
    "- Alternatively, use the keyboard shortcut *I* twice (press I quickly two times) to interrupt the current execution."
   ]
  },
  {
   "cell_type": "markdown",
   "id": "fd17563e-0c9c-4ca5-99a1-5887ec0d389f",
   "metadata": {},
   "source": [
    "### The Kernel in JupyterLab\n",
    "The kernel is the engine behind your notebook, it runs your Python code and remembers what you’ve done.\n",
    "\n",
    "When you press *Shift + Enter* to run a cell, the kernel executes that code and gives you a result (a number, a list, a graph, etc.).\n",
    "\n",
    "#### Understanding [ ], [*], and [1] in Jupyter Cells\n",
    "Every time you run a code cell, you’ll see a number appear inside square brackets next to the cell, like this:"
   ]
  },
  {
   "cell_type": "code",
   "execution_count": 3,
   "id": "e96b353e-06b4-481a-bf25-d13ea7f0bfc8",
   "metadata": {},
   "outputs": [
    {
     "name": "stdout",
     "output_type": "stream",
     "text": [
      "Hello\n"
     ]
    }
   ],
   "source": [
    "print(\"Hello\")"
   ]
  },
  {
   "cell_type": "markdown",
   "id": "f42dda80-acc5-411c-bb4b-bed54adf1763",
   "metadata": {},
   "source": [
    "Here’s what those brackets mean:\n",
    "\n",
    "**[ ]** — The cell has not been run yet.\n",
    "\n",
    "**[*]** — The code is currently running (kernel is busy).\n",
    "\n",
    "**[1], [2], ...** — The number shows the order in which you ran the cells.\n",
    "\n",
    "For example:\n",
    "\n",
    "If you see [5] next to a cell, it means this was the fifth cell you ran.\n",
    "\n",
    "If a cell is stuck on [*], it might be taking a long time or be stuck — you can stop it using Kernel → Interrupt.\n",
    "\n",
    "#### Common Kernel Actions:\n",
    "1. **Run code:** Shift + Enter\n",
    "2. **Interrupt kernel:** Stop a running cell (especially useful if stuck on [*])\n",
    "3. **Restart kernel:** Clears everything the kernel remembers (variables, imports, etc.)\n",
    "\n",
    "Use Kernel → Restart if things get messy or confusing — then rerun your cells from the top to start fresh."
   ]
  },
  {
   "cell_type": "markdown",
   "id": "97d111d4-05a6-4c69-9f89-3a4a916dfd30",
   "metadata": {},
   "source": [
    "## Built-in Functions and Documentation\n",
    "Python provides a wide range of built-in functions—these are standard, preloaded tools that help with common tasks. They require no additional libraries or installations and are available immediately when you run Python.\n",
    "\n",
    "### What Are Built-in Functions?\n",
    "\n",
    "A built-in function is a function that is always available in Python. These are designed to simplify common programming tasks. For instance, rather than writing your own code to calculate the length of a string, you can use len().\n",
    "\n",
    "Built-in functions improve productivity and reduce the need for writing code from scratch for basic operations.\n",
    "\n",
    "### Common Built-in Functions and What They Do:\n",
    "\n",
    "- **print()**: Displays text or variable output.\n",
    "- **len()**: Returns the number of items in an object (string, list, etc.).\n",
    "- **type()**: Returns the data type of a variable (e.g., int, str).\n",
    "- **int()**, **float()**, **str()**: Convert between data types.\n",
    "- **range()**: Produces a sequence of numbers, often used in loops.\n",
    "- **sum()**: Adds numbers in a list or iterable.\n",
    "- **sorted()**: Returns a new list containing all items from the iterable in ascending order.\n",
    "- **max()** / **min()**: Finds the largest or smallest value in a dataset.\n"
   ]
  },
  {
   "cell_type": "code",
   "execution_count": 4,
   "id": "94245c63-46b1-4323-888d-393cf79f70ae",
   "metadata": {},
   "outputs": [
    {
     "name": "stdout",
     "output_type": "stream",
     "text": [
      "Welcome to Digital Humanities\n",
      "Length of sentence: 27\n",
      "Data type: <class 'int'>\n",
      "Sorted years: [1789, 1850, 1945, 2023]\n",
      "Sum from 1 to 5: 15\n"
     ]
    }
   ],
   "source": [
    "# Example 1: Basic text output\n",
    "print(\"Welcome to Digital Humanities\")\n",
    "\n",
    "# Example 2: Working with a string\n",
    "sentence = \"Humanities meet computation\"\n",
    "print(\"Length of sentence:\", len(sentence))\n",
    "\n",
    "# Example 3: Check data type\n",
    "number = 42\n",
    "print(\"Data type:\", type(number))\n",
    "\n",
    "# Example 4: Sorting a list\n",
    "years = [1850, 2023, 1945, 1789]\n",
    "print(\"Sorted years:\", sorted(years))\n",
    "\n",
    "# Example 5: Using range and sum\n",
    "print(\"Sum from 1 to 5:\", sum(range(1, 6)))  # 1+2+3+4+5 = 15"
   ]
  },
  {
   "cell_type": "markdown",
   "id": "b4e06662-2e36-4f80-a681-914dcc9d42c0",
   "metadata": {},
   "source": [
    "### Exploring Python Documentation\n",
    "\n",
    "Learning how to explore the documentation is key to becoming self-sufficient in Python.\n",
    "\n",
    "**Python provides tools for this:**\n",
    "- help() function\n",
    "- The ? syntax in Jupyter Notebooks"
   ]
  },
  {
   "cell_type": "code",
   "execution_count": 5,
   "id": "1e9a2647-d65d-4045-ae24-7e1fc7242071",
   "metadata": {
    "scrolled": true
   },
   "outputs": [
    {
     "name": "stdout",
     "output_type": "stream",
     "text": [
      "Help on class str in module builtins:\n",
      "\n",
      "class str(object)\n",
      " |  str(object='') -> str\n",
      " |  str(bytes_or_buffer[, encoding[, errors]]) -> str\n",
      " |\n",
      " |  Create a new string object from the given object. If encoding or\n",
      " |  errors is specified, then the object must expose a data buffer\n",
      " |  that will be decoded using the given encoding and error handler.\n",
      " |  Otherwise, returns the result of object.__str__() (if defined)\n",
      " |  or repr(object).\n",
      " |  encoding defaults to sys.getdefaultencoding().\n",
      " |  errors defaults to 'strict'.\n",
      " |\n",
      " |  Methods defined here:\n",
      " |\n",
      " |  __add__(self, value, /)\n",
      " |      Return self+value.\n",
      " |\n",
      " |  __contains__(self, key, /)\n",
      " |      Return bool(key in self).\n",
      " |\n",
      " |  __eq__(self, value, /)\n",
      " |      Return self==value.\n",
      " |\n",
      " |  __format__(self, format_spec, /)\n",
      " |      Return a formatted version of the string as described by format_spec.\n",
      " |\n",
      " |  __ge__(self, value, /)\n",
      " |      Return self>=value.\n",
      " |\n",
      " |  __getitem__(self, key, /)\n",
      " |      Return self[key].\n",
      " |\n",
      " |  __getnewargs__(...)\n",
      " |\n",
      " |  __gt__(self, value, /)\n",
      " |      Return self>value.\n",
      " |\n",
      " |  __hash__(self, /)\n",
      " |      Return hash(self).\n",
      " |\n",
      " |  __iter__(self, /)\n",
      " |      Implement iter(self).\n",
      " |\n",
      " |  __le__(self, value, /)\n",
      " |      Return self<=value.\n",
      " |\n",
      " |  __len__(self, /)\n",
      " |      Return len(self).\n",
      " |\n",
      " |  __lt__(self, value, /)\n",
      " |      Return self<value.\n",
      " |\n",
      " |  __mod__(self, value, /)\n",
      " |      Return self%value.\n",
      " |\n",
      " |  __mul__(self, value, /)\n",
      " |      Return self*value.\n",
      " |\n",
      " |  __ne__(self, value, /)\n",
      " |      Return self!=value.\n",
      " |\n",
      " |  __repr__(self, /)\n",
      " |      Return repr(self).\n",
      " |\n",
      " |  __rmod__(self, value, /)\n",
      " |      Return value%self.\n",
      " |\n",
      " |  __rmul__(self, value, /)\n",
      " |      Return value*self.\n",
      " |\n",
      " |  __sizeof__(self, /)\n",
      " |      Return the size of the string in memory, in bytes.\n",
      " |\n",
      " |  __str__(self, /)\n",
      " |      Return str(self).\n",
      " |\n",
      " |  capitalize(self, /)\n",
      " |      Return a capitalized version of the string.\n",
      " |\n",
      " |      More specifically, make the first character have upper case and the rest lower\n",
      " |      case.\n",
      " |\n",
      " |  casefold(self, /)\n",
      " |      Return a version of the string suitable for caseless comparisons.\n",
      " |\n",
      " |  center(self, width, fillchar=' ', /)\n",
      " |      Return a centered string of length width.\n",
      " |\n",
      " |      Padding is done using the specified fill character (default is a space).\n",
      " |\n",
      " |  count(...)\n",
      " |      S.count(sub[, start[, end]]) -> int\n",
      " |\n",
      " |      Return the number of non-overlapping occurrences of substring sub in\n",
      " |      string S[start:end].  Optional arguments start and end are\n",
      " |      interpreted as in slice notation.\n",
      " |\n",
      " |  encode(self, /, encoding='utf-8', errors='strict')\n",
      " |      Encode the string using the codec registered for encoding.\n",
      " |\n",
      " |      encoding\n",
      " |        The encoding in which to encode the string.\n",
      " |      errors\n",
      " |        The error handling scheme to use for encoding errors.\n",
      " |        The default is 'strict' meaning that encoding errors raise a\n",
      " |        UnicodeEncodeError.  Other possible values are 'ignore', 'replace' and\n",
      " |        'xmlcharrefreplace' as well as any other name registered with\n",
      " |        codecs.register_error that can handle UnicodeEncodeErrors.\n",
      " |\n",
      " |  endswith(...)\n",
      " |      S.endswith(suffix[, start[, end]]) -> bool\n",
      " |\n",
      " |      Return True if S ends with the specified suffix, False otherwise.\n",
      " |      With optional start, test S beginning at that position.\n",
      " |      With optional end, stop comparing S at that position.\n",
      " |      suffix can also be a tuple of strings to try.\n",
      " |\n",
      " |  expandtabs(self, /, tabsize=8)\n",
      " |      Return a copy where all tab characters are expanded using spaces.\n",
      " |\n",
      " |      If tabsize is not given, a tab size of 8 characters is assumed.\n",
      " |\n",
      " |  find(...)\n",
      " |      S.find(sub[, start[, end]]) -> int\n",
      " |\n",
      " |      Return the lowest index in S where substring sub is found,\n",
      " |      such that sub is contained within S[start:end].  Optional\n",
      " |      arguments start and end are interpreted as in slice notation.\n",
      " |\n",
      " |      Return -1 on failure.\n",
      " |\n",
      " |  format(...)\n",
      " |      S.format(*args, **kwargs) -> str\n",
      " |\n",
      " |      Return a formatted version of S, using substitutions from args and kwargs.\n",
      " |      The substitutions are identified by braces ('{' and '}').\n",
      " |\n",
      " |  format_map(...)\n",
      " |      S.format_map(mapping) -> str\n",
      " |\n",
      " |      Return a formatted version of S, using substitutions from mapping.\n",
      " |      The substitutions are identified by braces ('{' and '}').\n",
      " |\n",
      " |  index(...)\n",
      " |      S.index(sub[, start[, end]]) -> int\n",
      " |\n",
      " |      Return the lowest index in S where substring sub is found,\n",
      " |      such that sub is contained within S[start:end].  Optional\n",
      " |      arguments start and end are interpreted as in slice notation.\n",
      " |\n",
      " |      Raises ValueError when the substring is not found.\n",
      " |\n",
      " |  isalnum(self, /)\n",
      " |      Return True if the string is an alpha-numeric string, False otherwise.\n",
      " |\n",
      " |      A string is alpha-numeric if all characters in the string are alpha-numeric and\n",
      " |      there is at least one character in the string.\n",
      " |\n",
      " |  isalpha(self, /)\n",
      " |      Return True if the string is an alphabetic string, False otherwise.\n",
      " |\n",
      " |      A string is alphabetic if all characters in the string are alphabetic and there\n",
      " |      is at least one character in the string.\n",
      " |\n",
      " |  isascii(self, /)\n",
      " |      Return True if all characters in the string are ASCII, False otherwise.\n",
      " |\n",
      " |      ASCII characters have code points in the range U+0000-U+007F.\n",
      " |      Empty string is ASCII too.\n",
      " |\n",
      " |  isdecimal(self, /)\n",
      " |      Return True if the string is a decimal string, False otherwise.\n",
      " |\n",
      " |      A string is a decimal string if all characters in the string are decimal and\n",
      " |      there is at least one character in the string.\n",
      " |\n",
      " |  isdigit(self, /)\n",
      " |      Return True if the string is a digit string, False otherwise.\n",
      " |\n",
      " |      A string is a digit string if all characters in the string are digits and there\n",
      " |      is at least one character in the string.\n",
      " |\n",
      " |  isidentifier(self, /)\n",
      " |      Return True if the string is a valid Python identifier, False otherwise.\n",
      " |\n",
      " |      Call keyword.iskeyword(s) to test whether string s is a reserved identifier,\n",
      " |      such as \"def\" or \"class\".\n",
      " |\n",
      " |  islower(self, /)\n",
      " |      Return True if the string is a lowercase string, False otherwise.\n",
      " |\n",
      " |      A string is lowercase if all cased characters in the string are lowercase and\n",
      " |      there is at least one cased character in the string.\n",
      " |\n",
      " |  isnumeric(self, /)\n",
      " |      Return True if the string is a numeric string, False otherwise.\n",
      " |\n",
      " |      A string is numeric if all characters in the string are numeric and there is at\n",
      " |      least one character in the string.\n",
      " |\n",
      " |  isprintable(self, /)\n",
      " |      Return True if the string is printable, False otherwise.\n",
      " |\n",
      " |      A string is printable if all of its characters are considered printable in\n",
      " |      repr() or if it is empty.\n",
      " |\n",
      " |  isspace(self, /)\n",
      " |      Return True if the string is a whitespace string, False otherwise.\n",
      " |\n",
      " |      A string is whitespace if all characters in the string are whitespace and there\n",
      " |      is at least one character in the string.\n",
      " |\n",
      " |  istitle(self, /)\n",
      " |      Return True if the string is a title-cased string, False otherwise.\n",
      " |\n",
      " |      In a title-cased string, upper- and title-case characters may only\n",
      " |      follow uncased characters and lowercase characters only cased ones.\n",
      " |\n",
      " |  isupper(self, /)\n",
      " |      Return True if the string is an uppercase string, False otherwise.\n",
      " |\n",
      " |      A string is uppercase if all cased characters in the string are uppercase and\n",
      " |      there is at least one cased character in the string.\n",
      " |\n",
      " |  join(self, iterable, /)\n",
      " |      Concatenate any number of strings.\n",
      " |\n",
      " |      The string whose method is called is inserted in between each given string.\n",
      " |      The result is returned as a new string.\n",
      " |\n",
      " |      Example: '.'.join(['ab', 'pq', 'rs']) -> 'ab.pq.rs'\n",
      " |\n",
      " |  ljust(self, width, fillchar=' ', /)\n",
      " |      Return a left-justified string of length width.\n",
      " |\n",
      " |      Padding is done using the specified fill character (default is a space).\n",
      " |\n",
      " |  lower(self, /)\n",
      " |      Return a copy of the string converted to lowercase.\n",
      " |\n",
      " |  lstrip(self, chars=None, /)\n",
      " |      Return a copy of the string with leading whitespace removed.\n",
      " |\n",
      " |      If chars is given and not None, remove characters in chars instead.\n",
      " |\n",
      " |  partition(self, sep, /)\n",
      " |      Partition the string into three parts using the given separator.\n",
      " |\n",
      " |      This will search for the separator in the string.  If the separator is found,\n",
      " |      returns a 3-tuple containing the part before the separator, the separator\n",
      " |      itself, and the part after it.\n",
      " |\n",
      " |      If the separator is not found, returns a 3-tuple containing the original string\n",
      " |      and two empty strings.\n",
      " |\n",
      " |  removeprefix(self, prefix, /)\n",
      " |      Return a str with the given prefix string removed if present.\n",
      " |\n",
      " |      If the string starts with the prefix string, return string[len(prefix):].\n",
      " |      Otherwise, return a copy of the original string.\n",
      " |\n",
      " |  removesuffix(self, suffix, /)\n",
      " |      Return a str with the given suffix string removed if present.\n",
      " |\n",
      " |      If the string ends with the suffix string and that suffix is not empty,\n",
      " |      return string[:-len(suffix)]. Otherwise, return a copy of the original\n",
      " |      string.\n",
      " |\n",
      " |  replace(self, old, new, count=-1, /)\n",
      " |      Return a copy with all occurrences of substring old replaced by new.\n",
      " |\n",
      " |        count\n",
      " |          Maximum number of occurrences to replace.\n",
      " |          -1 (the default value) means replace all occurrences.\n",
      " |\n",
      " |      If the optional argument count is given, only the first count occurrences are\n",
      " |      replaced.\n",
      " |\n",
      " |  rfind(...)\n",
      " |      S.rfind(sub[, start[, end]]) -> int\n",
      " |\n",
      " |      Return the highest index in S where substring sub is found,\n",
      " |      such that sub is contained within S[start:end].  Optional\n",
      " |      arguments start and end are interpreted as in slice notation.\n",
      " |\n",
      " |      Return -1 on failure.\n",
      " |\n",
      " |  rindex(...)\n",
      " |      S.rindex(sub[, start[, end]]) -> int\n",
      " |\n",
      " |      Return the highest index in S where substring sub is found,\n",
      " |      such that sub is contained within S[start:end].  Optional\n",
      " |      arguments start and end are interpreted as in slice notation.\n",
      " |\n",
      " |      Raises ValueError when the substring is not found.\n",
      " |\n",
      " |  rjust(self, width, fillchar=' ', /)\n",
      " |      Return a right-justified string of length width.\n",
      " |\n",
      " |      Padding is done using the specified fill character (default is a space).\n",
      " |\n",
      " |  rpartition(self, sep, /)\n",
      " |      Partition the string into three parts using the given separator.\n",
      " |\n",
      " |      This will search for the separator in the string, starting at the end. If\n",
      " |      the separator is found, returns a 3-tuple containing the part before the\n",
      " |      separator, the separator itself, and the part after it.\n",
      " |\n",
      " |      If the separator is not found, returns a 3-tuple containing two empty strings\n",
      " |      and the original string.\n",
      " |\n",
      " |  rsplit(self, /, sep=None, maxsplit=-1)\n",
      " |      Return a list of the substrings in the string, using sep as the separator string.\n",
      " |\n",
      " |        sep\n",
      " |          The separator used to split the string.\n",
      " |\n",
      " |          When set to None (the default value), will split on any whitespace\n",
      " |          character (including \\n \\r \\t \\f and spaces) and will discard\n",
      " |          empty strings from the result.\n",
      " |        maxsplit\n",
      " |          Maximum number of splits.\n",
      " |          -1 (the default value) means no limit.\n",
      " |\n",
      " |      Splitting starts at the end of the string and works to the front.\n",
      " |\n",
      " |  rstrip(self, chars=None, /)\n",
      " |      Return a copy of the string with trailing whitespace removed.\n",
      " |\n",
      " |      If chars is given and not None, remove characters in chars instead.\n",
      " |\n",
      " |  split(self, /, sep=None, maxsplit=-1)\n",
      " |      Return a list of the substrings in the string, using sep as the separator string.\n",
      " |\n",
      " |        sep\n",
      " |          The separator used to split the string.\n",
      " |\n",
      " |          When set to None (the default value), will split on any whitespace\n",
      " |          character (including \\n \\r \\t \\f and spaces) and will discard\n",
      " |          empty strings from the result.\n",
      " |        maxsplit\n",
      " |          Maximum number of splits.\n",
      " |          -1 (the default value) means no limit.\n",
      " |\n",
      " |      Splitting starts at the front of the string and works to the end.\n",
      " |\n",
      " |      Note, str.split() is mainly useful for data that has been intentionally\n",
      " |      delimited.  With natural text that includes punctuation, consider using\n",
      " |      the regular expression module.\n",
      " |\n",
      " |  splitlines(self, /, keepends=False)\n",
      " |      Return a list of the lines in the string, breaking at line boundaries.\n",
      " |\n",
      " |      Line breaks are not included in the resulting list unless keepends is given and\n",
      " |      true.\n",
      " |\n",
      " |  startswith(...)\n",
      " |      S.startswith(prefix[, start[, end]]) -> bool\n",
      " |\n",
      " |      Return True if S starts with the specified prefix, False otherwise.\n",
      " |      With optional start, test S beginning at that position.\n",
      " |      With optional end, stop comparing S at that position.\n",
      " |      prefix can also be a tuple of strings to try.\n",
      " |\n",
      " |  strip(self, chars=None, /)\n",
      " |      Return a copy of the string with leading and trailing whitespace removed.\n",
      " |\n",
      " |      If chars is given and not None, remove characters in chars instead.\n",
      " |\n",
      " |  swapcase(self, /)\n",
      " |      Convert uppercase characters to lowercase and lowercase characters to uppercase.\n",
      " |\n",
      " |  title(self, /)\n",
      " |      Return a version of the string where each word is titlecased.\n",
      " |\n",
      " |      More specifically, words start with uppercased characters and all remaining\n",
      " |      cased characters have lower case.\n",
      " |\n",
      " |  translate(self, table, /)\n",
      " |      Replace each character in the string using the given translation table.\n",
      " |\n",
      " |        table\n",
      " |          Translation table, which must be a mapping of Unicode ordinals to\n",
      " |          Unicode ordinals, strings, or None.\n",
      " |\n",
      " |      The table must implement lookup/indexing via __getitem__, for instance a\n",
      " |      dictionary or list.  If this operation raises LookupError, the character is\n",
      " |      left untouched.  Characters mapped to None are deleted.\n",
      " |\n",
      " |  upper(self, /)\n",
      " |      Return a copy of the string converted to uppercase.\n",
      " |\n",
      " |  zfill(self, width, /)\n",
      " |      Pad a numeric string with zeros on the left, to fill a field of the given width.\n",
      " |\n",
      " |      The string is never truncated.\n",
      " |\n",
      " |  ----------------------------------------------------------------------\n",
      " |  Static methods defined here:\n",
      " |\n",
      " |  __new__(*args, **kwargs)\n",
      " |      Create and return a new object.  See help(type) for accurate signature.\n",
      " |\n",
      " |  maketrans(...)\n",
      " |      Return a translation table usable for str.translate().\n",
      " |\n",
      " |      If there is only one argument, it must be a dictionary mapping Unicode\n",
      " |      ordinals (integers) or characters to Unicode ordinals, strings or None.\n",
      " |      Character keys will be then converted to ordinals.\n",
      " |      If there are two arguments, they must be strings of equal length, and\n",
      " |      in the resulting dictionary, each character in x will be mapped to the\n",
      " |      character at the same position in y. If there is a third argument, it\n",
      " |      must be a string, whose characters will be mapped to None in the result.\n",
      "\n"
     ]
    }
   ],
   "source": [
    "help(str)"
   ]
  },
  {
   "cell_type": "markdown",
   "id": "81349dcc-6444-4845-9a46-10d5408ac08e",
   "metadata": {},
   "source": [
    "This gives detailed information about how to work with strings."
   ]
  },
  {
   "cell_type": "code",
   "execution_count": 6,
   "id": "792fe49d-ba22-4c7e-9277-4cc668fd1d3d",
   "metadata": {
    "scrolled": true
   },
   "outputs": [
    {
     "data": {
      "text/plain": [
       "\u001b[0;31mInit signature:\u001b[0m \u001b[0mstr\u001b[0m\u001b[0;34m(\u001b[0m\u001b[0mself\u001b[0m\u001b[0;34m,\u001b[0m \u001b[0;34m/\u001b[0m\u001b[0;34m,\u001b[0m \u001b[0;34m*\u001b[0m\u001b[0margs\u001b[0m\u001b[0;34m,\u001b[0m \u001b[0;34m**\u001b[0m\u001b[0mkwargs\u001b[0m\u001b[0;34m)\u001b[0m\u001b[0;34m\u001b[0m\u001b[0;34m\u001b[0m\u001b[0m\n",
       "\u001b[0;31mDocstring:\u001b[0m     \n",
       "str(object='') -> str\n",
       "str(bytes_or_buffer[, encoding[, errors]]) -> str\n",
       "\n",
       "Create a new string object from the given object. If encoding or\n",
       "errors is specified, then the object must expose a data buffer\n",
       "that will be decoded using the given encoding and error handler.\n",
       "Otherwise, returns the result of object.__str__() (if defined)\n",
       "or repr(object).\n",
       "encoding defaults to sys.getdefaultencoding().\n",
       "errors defaults to 'strict'.\n",
       "\u001b[0;31mType:\u001b[0m           type\n",
       "\u001b[0;31mSubclasses:\u001b[0m     StrEnum, DeferredConfigString, FoldedCase, _rstr, _ScriptTarget, _ModuleTarget, LSString, include, Keys, InputMode, ..."
      ]
     },
     "metadata": {},
     "output_type": "display_data"
    }
   ],
   "source": [
    "str?"
   ]
  },
  {
   "cell_type": "markdown",
   "id": "ceb47c12-b3d7-4327-ad80-2649712f97db",
   "metadata": {},
   "source": [
    "This brings up a quick help popup describing the str class.\n",
    "\n",
    "You can also combine help with other functions:"
   ]
  },
  {
   "cell_type": "code",
   "execution_count": 7,
   "id": "4aac9683-03d3-4afa-9fbf-d24b2d6de00a",
   "metadata": {},
   "outputs": [
    {
     "name": "stdout",
     "output_type": "stream",
     "text": [
      "Help on built-in function len in module builtins:\n",
      "\n",
      "len(obj, /)\n",
      "    Return the number of items in a container.\n",
      "\n"
     ]
    }
   ],
   "source": [
    "help(len)"
   ]
  },
  {
   "cell_type": "markdown",
   "id": "36a90305-6739-4add-b695-e3da267efe09",
   "metadata": {},
   "source": [
    "This shows how the len() function works and what types it supports."
   ]
  },
  {
   "cell_type": "markdown",
   "id": "6020aabf-cad6-4b62-b5a7-a34f3864eba4",
   "metadata": {},
   "source": [
    "## Libraries and Modules\n",
    "Python's strength lies in its standard library and external packages—collections of modules that offer specialized functionality. A module is simply a file containing Python definitions and statements. A library is a collection of modules that can be imported and used in your programs.\n",
    "\n",
    "### Why Libraries Matter:\n",
    "\n",
    "They save time and provide tested, optimized tools for:\n",
    "- Text processing\n",
    "- Data handling\n",
    "- Visualization\n",
    "- Machine learning\n",
    "- File and network operations\n",
    "\n",
    "### Importing Modules\n",
    "To use a module, you import it into your Python script:"
   ]
  },
  {
   "cell_type": "code",
   "execution_count": 1,
   "id": "130a8156-adeb-42d6-be0d-f445a9069620",
   "metadata": {},
   "outputs": [
    {
     "name": "stdout",
     "output_type": "stream",
     "text": [
      "4.0\n"
     ]
    }
   ],
   "source": [
    "import math\n",
    "print(math.sqrt(16))  # Output: 4.0"
   ]
  },
  {
   "cell_type": "markdown",
   "id": "c1928b73-dd9b-41ec-89cb-04d9347891b3",
   "metadata": {},
   "source": [
    "You can also import specific functions or classes:"
   ]
  },
  {
   "cell_type": "code",
   "execution_count": 2,
   "id": "9fcdecba-c712-49c3-ac7e-d05816dcaeb1",
   "metadata": {},
   "outputs": [
    {
     "name": "stdout",
     "output_type": "stream",
     "text": [
      "3.141592653589793\n",
      "1.0\n"
     ]
    }
   ],
   "source": [
    "from math import pi, sin\n",
    "print(pi)         # Output: 3.141592653589793\n",
    "print(sin(pi/2))  # Output: 1.0"
   ]
  },
  {
   "cell_type": "markdown",
   "id": "c4792329-0d0e-4fb4-96a7-6a493c17a9cf",
   "metadata": {},
   "source": [
    "Or give a library module an alias:"
   ]
  },
  {
   "cell_type": "code",
   "execution_count": 3,
   "id": "df202f31-d7bb-44e6-962b-3809c6649afa",
   "metadata": {},
   "outputs": [
    {
     "data": {
      "text/plain": [
       "array([1, 2, 3])"
      ]
     },
     "execution_count": 3,
     "metadata": {},
     "output_type": "execute_result"
    }
   ],
   "source": [
    "import numpy as np\n",
    "array = np.array([1, 2, 3])\n",
    "array"
   ]
  },
  {
   "cell_type": "markdown",
   "id": "d0561218-a4c0-4d88-b202-257044996afb",
   "metadata": {},
   "source": [
    "### Built-in Python Libraries\n",
    "Python comes with a rich standard library — a collection of modules and packages that are bundled with Python itself. This means you don’t need to install anything extra to start using them. They’re always available whenever you run Python, making it super convenient to perform many common programming tasks right out of the box.\n",
    "\n",
    "#### *random* : Generate random numbers\n",
    "\n",
    "Useful for creating random data, games, simulations, or selecting random elements."
   ]
  },
  {
   "cell_type": "code",
   "execution_count": 6,
   "id": "f4908586-a5db-4d70-a23d-1ffd45a1fd0d",
   "metadata": {},
   "outputs": [
    {
     "name": "stdout",
     "output_type": "stream",
     "text": [
      "5\n"
     ]
    }
   ],
   "source": [
    "import random\n",
    "print(random.randint(1, 10))  # Random number between 1 and 10"
   ]
  },
  {
   "cell_type": "markdown",
   "id": "89ac62a7-5779-4886-94ba-d4e6f55f8a9c",
   "metadata": {},
   "source": [
    "#### *datetime* — Work with dates and times\n",
    "Easily get the current date/time or perform date calculations."
   ]
  },
  {
   "cell_type": "code",
   "execution_count": 5,
   "id": "31fa641d-c739-44e3-a0e7-01b0caa76b4d",
   "metadata": {},
   "outputs": [
    {
     "name": "stdout",
     "output_type": "stream",
     "text": [
      "2025-05-16 11:35:02\n"
     ]
    }
   ],
   "source": [
    "import datetime\n",
    "now = datetime.datetime.now()\n",
    "print(now.strftime(\"%Y-%m-%d %H:%M:%S\"))"
   ]
  },
  {
   "cell_type": "markdown",
   "id": "ace4fb15-9a27-4c81-80cb-fe8f86d811d2",
   "metadata": {},
   "source": [
    "#### *os* — Interact with your computer’s operating system\n",
    "Get info about files, directories, environment variables, or execute system commands."
   ]
  },
  {
   "cell_type": "code",
   "execution_count": 7,
   "id": "2be0c97b-2514-460e-b9b8-e3c11114dab0",
   "metadata": {},
   "outputs": [
    {
     "name": "stdout",
     "output_type": "stream",
     "text": [
      "/Users/tnchevez/Desktop/Acenet/DHSI\n",
      "['Day1_afternoon.ipynb', '.ipynb_checkpoints']\n"
     ]
    }
   ],
   "source": [
    "import os\n",
    "\n",
    "print(os.getcwd())  # Current working directory\n",
    "print(os.listdir()) # List files in the current directory\n"
   ]
  },
  {
   "cell_type": "markdown",
   "id": "6bc083ba-5492-4c0b-b2c0-2871399a67ae",
   "metadata": {},
   "source": [
    "### External Libraries\n",
    "While Python’s built-in libraries cover a lot, many advanced tasks require specialized tools, this is where external libraries come in. These are packages developed by the Python community (or companies) and shared through the Python Package Index (PyPI). You usually install them using the package manager *pip*.\n",
    "\n",
    "#### What Are External Libraries?\n",
    "- They extend Python’s capabilities beyond the standard library.\n",
    "- Provide tools for data science, machine learning, web development, image processing, automation, and much more.\n",
    "- They often come with many modules and sub-packages bundled together, making them powerful libraries.\n",
    "\n",
    "#### Installing External Libraries\n",
    "Normally, you install external libraries using the command line:"
   ]
  },
  {
   "cell_type": "raw",
   "id": "181c4d81-9539-4865-bd82-5ef06bf1d233",
   "metadata": {},
   "source": [
    "pip install library-name"
   ]
  },
  {
   "cell_type": "markdown",
   "id": "8b01abf7-6440-43ad-b20e-a222ef7ca4e2",
   "metadata": {},
   "source": [
    "For example:"
   ]
  },
  {
   "cell_type": "raw",
   "id": "4cce3c14-9f22-4d37-8528-ab5009dc4f12",
   "metadata": {},
   "source": [
    "pip install numpy\n",
    "pip install pandas\n",
    "pip install matplotlib"
   ]
  },
  {
   "cell_type": "markdown",
   "id": "903254b0-cf49-4147-86cd-d5b1c5a7b6b6",
   "metadata": {},
   "source": [
    "Most popular external libraries used for data science and scientific computing come pre-installed in JupyterLab environments such as:\n",
    "- Anaconda distribution (a popular Python distribution for data science)\n",
    "- Cloud platforms like Google Colab\n",
    "- Many managed JupyterHub setups\n",
    "\n",
    "This means when you open a notebook in JupyterLab, you can often import and use libraries like *numpy*, *pandas*, and *matplotlib* immediately, no extra installation required.\n",
    "\n",
    "Let's see some examples of these libraries:\n",
    "\n",
    "#### *numpy* — Fast numerical computing\n",
    "Provides powerful arrays and mathematical functions."
   ]
  },
  {
   "cell_type": "code",
   "execution_count": 1,
   "id": "ece08d0c-51b7-4562-a339-58fef981bba0",
   "metadata": {},
   "outputs": [
    {
     "name": "stdout",
     "output_type": "stream",
     "text": [
      "[2 4 6]\n"
     ]
    }
   ],
   "source": [
    "import numpy as np\n",
    "\n",
    "arr = np.array([1, 2, 3])\n",
    "print(arr * 2)  # [2 4 6]"
   ]
  },
  {
   "cell_type": "markdown",
   "id": "a044c5c4-e5a6-4155-aaff-8df76036f791",
   "metadata": {},
   "source": [
    "#### *pandas* — Data manipulation and analysis\n",
    "Makes working with tabular data easy."
   ]
  },
  {
   "cell_type": "code",
   "execution_count": 3,
   "id": "9ea6330c-24c5-4bc4-92da-13a990482d6e",
   "metadata": {},
   "outputs": [
    {
     "name": "stdout",
     "output_type": "stream",
     "text": [
      "    Name  Age\n",
      "0  Alice   25\n",
      "1    Bob   30\n"
     ]
    }
   ],
   "source": [
    "import pandas as pd\n",
    "\n",
    "data = {'Name': ['Alice', 'Bob'], 'Age': [25, 30]}\n",
    "df = pd.DataFrame(data)\n",
    "print(df)"
   ]
  },
  {
   "cell_type": "markdown",
   "id": "f382f27a-d212-4b75-9350-bb296a768e2b",
   "metadata": {},
   "source": [
    "#### *matplotlib* — Data visualization\n",
    "Create charts and graphs."
   ]
  },
  {
   "cell_type": "code",
   "execution_count": 2,
   "id": "ad7f98dc-e057-43ed-a1db-e84ba0d238c6",
   "metadata": {},
   "outputs": [
    {
     "data": {
      "image/png": "[encoded data removed]",
      "text/plain": [
       "<Figure size 640x480 with 1 Axes>"
      ]
     },
     "metadata": {},
     "output_type": "display_data"
    }
   ],
   "source": [
    "import matplotlib.pyplot as plt\n",
    "\n",
    "x = [1, 2, 3, 4]\n",
    "y = [10, 20, 25, 30]\n",
    "\n",
    "plt.plot(x, y)\n",
    "plt.title(\"Simple Line Plot\")\n",
    "plt.show()"
   ]
  }
 ],
 "metadata": {
  "kernelspec": {
   "display_name": "Python 3 (ipykernel)",
   "language": "python",
   "name": "python3"
  },
  "language_info": {
   "codemirror_mode": {
    "name": "ipython",
    "version": 3
   },
   "file_extension": ".py",
   "mimetype": "text/x-python",
   "name": "python",
   "nbconvert_exporter": "python",
   "pygments_lexer": "ipython3",
   "version": "3.12.7"
  }
 },
 "nbformat": 4,
 "nbformat_minor": 5
}
