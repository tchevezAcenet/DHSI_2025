{
 "cells": [
  {
   "cell_type": "markdown",
   "id": "19c6c1f6-12cc-47eb-b0a8-a9356c42a493",
   "metadata": {},
   "source": [
    "# Introduction to API Querying\n",
    "\n",
    "In today’s digital world, being able to access and work with online data is a valuable skill, even in the Humanities and Social Sciences. This session is all about getting comfortable with APIs (Application Programming Interfaces) and understanding why they’re useful for research. You’ll learn how APIs compare to other ways of getting data, like text mining and web scraping, and how to tell if a website has an API you can use. We’ll walk through how to make a request to an API, use parameters to get the exact data you want, and understand the responses you get back (usually in JSON format). By the end, you’ll have hands-on experience using APIs to gather and explore data for your own projects."
   ]
  },
  {
   "cell_type": "markdown",
   "id": "7750c5e6-aad0-4ceb-b318-58834179058e",
   "metadata": {},
   "source": [
    "Let's get started by importing the libraries that we will be using:"
   ]
  },
  {
   "cell_type": "code",
   "execution_count": 1,
   "id": "b92f49b3-b07c-4e06-a462-3d982380d483",
   "metadata": {},
   "outputs": [],
   "source": [
    "#Your code goes here"
   ]
  },
  {
   "cell_type": "markdown",
   "id": "fb0000c4-5bed-438d-b3ba-b98e4b46eb99",
   "metadata": {},
   "source": [
    "Let’s explore the requests and json libraries using the Help function:"
   ]
  },
  {
   "cell_type": "code",
   "execution_count": 2,
   "id": "e7174f6d-c64c-49e2-a917-96a6f38c82c8",
   "metadata": {
    "scrolled": true
   },
   "outputs": [],
   "source": [
    "#Your code goes here"
   ]
  },
  {
   "cell_type": "code",
   "execution_count": 3,
   "id": "2df5c3af-fc01-41cf-8f26-bc960c59f41e",
   "metadata": {
    "scrolled": true
   },
   "outputs": [],
   "source": [
    "#Your code goes here"
   ]
  },
  {
   "cell_type": "markdown",
   "id": "a55bba4a-52bc-4cdc-b4fd-71ce93ac0c24",
   "metadata": {},
   "source": [
    "Let’s get started with some hands-on API querying!\n",
    "\n",
    "For our first example, we’ll use an easy-to-understand API from [catfact.ninja](https://catfact.ninja), a site that serves up random cat facts, perfect for learning the basics in a fun way."
   ]
  },
  {
   "cell_type": "markdown",
   "id": "8fa42fbd-7fb0-4dfd-9a65-df4afa70fbd6",
   "metadata": {},
   "source": [
    "**1. Create a variable for base URL**\n",
    "\n",
    "Let's do a simple request and see what we get:"
   ]
  },
  {
   "cell_type": "code",
   "execution_count": 4,
   "id": "6ba9d9d8-a8c4-4477-a344-f1596798ad84",
   "metadata": {},
   "outputs": [],
   "source": [
    "#Your code goes here"
   ]
  },
  {
   "cell_type": "markdown",
   "id": "24b32e4b-76b5-46db-b5fd-fb6c486b8a6a",
   "metadata": {},
   "source": [
    "**2. Create a variable for the cat facts response**"
   ]
  },
  {
   "cell_type": "code",
   "execution_count": 5,
   "id": "9aeb9779-884b-42ae-9793-ecb16164ff91",
   "metadata": {},
   "outputs": [],
   "source": [
    "#Your code goes here"
   ]
  },
  {
   "cell_type": "markdown",
   "id": "ab592ca8-8608-437f-baaf-dc1071fbf782",
   "metadata": {},
   "source": [
    "Let's explore the ‘responses’ library:"
   ]
  },
  {
   "cell_type": "code",
   "execution_count": 6,
   "id": "3159edf8-bdb8-4a04-9326-6a6254a58ece",
   "metadata": {},
   "outputs": [],
   "source": [
    "#Your code goes here"
   ]
  },
  {
   "cell_type": "code",
   "execution_count": 7,
   "id": "fb94ce4f-c8e2-49be-971a-68d65fa095bc",
   "metadata": {},
   "outputs": [],
   "source": [
    "#Your code goes here"
   ]
  },
  {
   "cell_type": "code",
   "execution_count": 8,
   "id": "1720b545-9fa9-4c58-b9b3-7d1908a28a74",
   "metadata": {
    "scrolled": true
   },
   "outputs": [],
   "source": [
    "#Your code goes here"
   ]
  },
  {
   "cell_type": "markdown",
   "id": "06c3c985-2da0-4b3e-a482-e1e8b3fb98c0",
   "metadata": {},
   "source": [
    "The output for the .text function is actually JSON (Javascript object notation). If we apply a JSON method we can export this as a dictionary, which will be much easier for us to work with:"
   ]
  },
  {
   "cell_type": "code",
   "execution_count": 9,
   "id": "c951ea38-969a-493c-b19c-632ecae67c92",
   "metadata": {
    "scrolled": true
   },
   "outputs": [],
   "source": [
    "#Your code goes here"
   ]
  },
  {
   "cell_type": "markdown",
   "id": "f0ace07a-0a47-49a3-8d26-e6416e8f3738",
   "metadata": {},
   "source": [
    "**3. Querying parameters**"
   ]
  },
  {
   "cell_type": "code",
   "execution_count": 10,
   "id": "15deb0c4-0ff9-43d6-a687-86b0caff89e0",
   "metadata": {},
   "outputs": [],
   "source": [
    "#Your code goes here"
   ]
  },
  {
   "cell_type": "markdown",
   "id": "2676b586-a6ab-468d-82c7-77d97f5a48b4",
   "metadata": {},
   "source": [
    "Let's create a variable to save this parameter: "
   ]
  },
  {
   "cell_type": "code",
   "execution_count": 11,
   "id": "9caf6b05-3f29-440a-9932-d1d5acf5abbe",
   "metadata": {
    "scrolled": true
   },
   "outputs": [],
   "source": [
    "#Your code goes here"
   ]
  },
  {
   "cell_type": "markdown",
   "id": "96045700-3bca-4d9c-a028-e0b26f6f296d",
   "metadata": {},
   "source": [
    "## Exercise 1:\n",
    "\n",
    "Query the /breeds attribute and limit our results to 10."
   ]
  },
  {
   "cell_type": "code",
   "execution_count": 12,
   "id": "d1eaaff5-a1d8-4177-aaf0-33a2a7bf80e4",
   "metadata": {},
   "outputs": [],
   "source": [
    "#Your code goes here"
   ]
  },
  {
   "cell_type": "code",
   "execution_count": 13,
   "id": "5d719c96-8ae5-42fb-afea-51c0f79e5cfd",
   "metadata": {
    "scrolled": true
   },
   "outputs": [],
   "source": [
    "#Your code goes here"
   ]
  },
  {
   "cell_type": "markdown",
   "id": "bff26dd0-3b43-4bb6-a457-dee6d5095ff2",
   "metadata": {},
   "source": [
    "Let’s try another example of API querying—this time with a sci-fi twist!\n",
    "\n",
    "We’ll be using [swapi.info](https://swapi.info/), an API built specifically for exploring data from the Star Wars universe. It’s a great way to practice working with structured data while having a bit of fun with characters, planets, and starships.\n",
    "\n",
    "Let’s create a variable for the people attributes URL and do a simple request to it:"
   ]
  },
  {
   "cell_type": "code",
   "execution_count": 14,
   "id": "d4051468-6ffd-45b5-bc18-23a711b4e946",
   "metadata": {
    "scrolled": true
   },
   "outputs": [],
   "source": [
    "#Your code goes here"
   ]
  },
  {
   "cell_type": "markdown",
   "id": "2c83d6f6-9002-43f7-ab93-0f44ca0c7693",
   "metadata": {},
   "source": [
    "Let’s query the People attribute ID 1 by creating a variable"
   ]
  },
  {
   "cell_type": "code",
   "execution_count": 15,
   "id": "d3f4cc1f-2e9e-4236-b388-ec7ce97aaa1c",
   "metadata": {},
   "outputs": [],
   "source": [
    "#Your code goes here"
   ]
  },
  {
   "cell_type": "markdown",
   "id": "001821f0-9d08-4fe5-bf56-1b5c944e0e7b",
   "metadata": {},
   "source": [
    "Let's declare a second variable, called api_url_response:"
   ]
  },
  {
   "cell_type": "code",
   "execution_count": 16,
   "id": "71259fea-4201-4d76-a7b4-e9b8bc8ee628",
   "metadata": {},
   "outputs": [],
   "source": [
    "#Your code goes here"
   ]
  },
  {
   "cell_type": "markdown",
   "id": "dd466895-e0c6-4c5d-a611-24c107d6331a",
   "metadata": {},
   "source": [
    "**JSON Format**\n",
    "\n",
    "JSON data is formatted in *key-value* pairs. If you refer to the JSON data, you'll see that it's actually a list of keys and their corresponding values. For example, there's a \"birth_year\" key whose value is \"19BBY\" as well as an \"eye_color\" key whose value is \"blue.\"\n",
    "\n",
    "\n",
    "We can refer to the JSON data by its key:"
   ]
  },
  {
   "cell_type": "code",
   "execution_count": 17,
   "id": "a15ed6ae-20ec-47aa-b605-a8ba9bab371f",
   "metadata": {},
   "outputs": [],
   "source": [
    "#Your code goes here"
   ]
  },
  {
   "cell_type": "markdown",
   "id": "40ca6376-873d-43fb-9d3f-67dd045f8d76",
   "metadata": {},
   "source": [
    "In the statement above, we are setting a new variable called hair. The variable is composed of the value of the *hair_color* key, as specified in the data you see in the previous cell.\n",
    "\n",
    "\n",
    "We also set a variable called name, which is composed of the value of the *name* key. Then we tell the program to print those values\n"
   ]
  },
  {
   "cell_type": "markdown",
   "id": "34810d49-0683-41a0-b5ce-a70832ef596e",
   "metadata": {},
   "source": [
    "## Exercise 2\n",
    "Write some code that uses the API to tell us Luke Skywalker's eye color."
   ]
  },
  {
   "cell_type": "code",
   "execution_count": 18,
   "id": "4480224b-ca59-49de-9e8d-50b454a96c80",
   "metadata": {},
   "outputs": [],
   "source": [
    "#Your code goes here"
   ]
  },
  {
   "cell_type": "markdown",
   "id": "cad74e2a-5dbe-49fe-a91b-81d3cc9d89c4",
   "metadata": {},
   "source": [
    "## Exercise 3\n",
    "\n",
    "Let’s try a different attribute! Choose one from the documentation: [swapi.info](https://swapi.info/)\n",
    "\n",
    "Try choosing a specific endpoint associated with an attribute to create a full string.\n"
   ]
  }
 ],
 "metadata": {
  "kernelspec": {
   "display_name": "Python 3 (ipykernel)",
   "language": "python",
   "name": "python3"
  },
  "language_info": {
   "codemirror_mode": {
    "name": "ipython",
    "version": 3
   },
   "file_extension": ".py",
   "mimetype": "text/x-python",
   "name": "python",
   "nbconvert_exporter": "python",
   "pygments_lexer": "ipython3",
   "version": "3.12.7"
  }
 },
 "nbformat": 4,
 "nbformat_minor": 5
}
