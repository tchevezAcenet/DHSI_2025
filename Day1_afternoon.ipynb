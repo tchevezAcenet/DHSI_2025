{
 "cells": [
  {
   "cell_type": "markdown",
   "id": "955c2dff-77bb-408b-b490-0c139add4405",
   "metadata": {},
   "source": [
    "# Introduction to Python for Digital Humanities\n",
    "The Digital Humanities (DH) is an interdisciplinary field that brings together computational tools and methods with traditional disciplines in the humanities, such as history, literature, art history, linguistics, philosophy, and cultural studies. As the volume of digital cultural content grows—such as digitized manuscripts, historical records, social media posts, and multimedia archives—the need to process, analyze, and interpret these materials using digital tools becomes increasingly important.\n",
    "\n",
    "### Why Use Python in the Digital Humanities?\n",
    "\n",
    "Python has emerged as a key language in DH because it is:\n",
    "\n",
    "- **Easy to Read and Write:** Python’s clean syntax makes it approachable, especially for scholars without a computer science background.\n",
    "- **Widely Supported:** Python has a vibrant global community and extensive online documentation, tutorials, and forums.\n",
    "- **Rich in Libraries:** There are many ready-to-use libraries for working with text, data, images, sound, and even geographic information.\n",
    "- **Flexible and Powerful:** Python can be used for small tasks like file renaming, or large-scale tasks like building full text analysis pipelines or interactive web applications.\n",
    "- **Interoperable:** Python can work with many different file formats (e.g., CSV, XML, JSON, PDF, images) and integrate with other tools commonly used in humanities research.\n",
    "\n",
    "### Practical Applications of Python in DH\n",
    "\n",
    "Using Python, digital humanists can:\n",
    "\n",
    "- **Analyze Large Text Corpora:** Quickly process thousands of pages to extract keywords, count word frequencies, detect sentiment, or classify genres.\n",
    "- **Explore Historical Patterns:** Visualize trends over time using data from newspapers, census records, or personal letters.\n",
    "- **Build Digital Exhibits:** Combine historical images, audio clips, and data visualizations in an interactive website.\n",
    "- **Transcribe and Clean Data:** Automate OCR cleanup, remove metadata noise, or reformat archival information.\n",
    "- **Perform Network Analysis:** Study connections between people, places, or concepts across time using network graphs.\n",
    "- **Map Cultural Content:** Use Python’s geospatial libraries to create maps that show the spread of artistic movements, migration patterns, or historical events.\n",
    "\n",
    "### Real-World Examples:\n",
    "\n",
    "- **Text Mining:** Identify recurring phrases and topics in a century's worth of digitized books.\n",
    "- **Social Media Analysis:** Study public sentiment and discourse during key cultural or political events.\n",
    "- **Metadata Curation:** Automatically extract, clean, and organize metadata from thousands of image or document files.\n",
    "- **Historical Visualization:** Animate the rise and fall of empires using historical timelines and geographic data.\n",
    "- **Interactive Archives:** Create searchable digital editions of rare manuscripts using Python web frameworks.\n",
    "\n",
    "By learning Python, researchers in the humanities gain a set of tools to extend their traditional methods, handle complex datasets, and share their work in innovative and engaging ways."
   ]
  },
  {
   "cell_type": "markdown",
   "id": "c1ca4e86-96a2-4efe-b113-a88204a1fa0a",
   "metadata": {},
   "source": [
    "## Introduction to JupyterLab\n",
    "JupyterLab is an interactive computing environment that allows you to create and share documents containing live code, equations, visualizations, and narrative text. It is commonly used in data science, research, and education, especially for projects in the Digital Humanities, because of its flexibility and ease of use. JupyterLab is essentially an upgrade of Jupyter Notebooks, providing a more modular and feature-rich interface."
   ]
  },
  {
   "cell_type": "markdown",
   "id": "c283dd9a-2eba-4e46-9e8a-6ed2c69e4057",
   "metadata": {},
   "source": [
    "### Key Features of JupyterLab:\n",
    "- **Code cells:** These are cells where you write and execute code.\n",
    "- **Markdown cells:** These cells are used for explanatory text, formatted using Markdown.\n",
    "- **Rich outputs:** Visualizations, graphs, images, and other media can be displayed inline within the notebook.\n",
    "- **File management:** JupyterLab has a built-in file browser that allows you to organize and manage notebooks, text files, images, and other resources.\n",
    "\n",
    "### How to Add Cells in JupyterLab\n",
    "In JupyterLab, cells are the building blocks of your notebook. You can add, delete, and modify cells to create a flow between code execution and explanatory text.\n",
    "\n",
    "#### Adding Cells:\n",
    "1. **Via Menu:** Navigate to the top menu: *Insert → Insert Cell Below or Insert → Insert Cell Above.*\n",
    "\n",
    "2. **Keyboard Shortcuts:** *Press B* to insert a cell below the current one or *A* to insert a cell above.\n",
    "\n",
    "3. **Clicking Buttons:** Use the \"+\" button in the toolbar to insert new cells.\n",
    "\n",
    "#### Switching Between Cell Types (Code and Markdown):\n",
    "You can switch between code cells and markdown cells to organize your content effectively.\n",
    "\n",
    "1. **To Change a Cell Type to Code:**\n",
    "\n",
    "-  Select the cell and *press Y*.\n",
    "- Alternatively, click on the Cell Type dropdown menu in the toolbar (where \"Markdown\" is by default) and select Code.\n",
    "\n",
    "2. **To Change a Cell Type to Markdown:**\n",
    "\n",
    "- Select the cell and *press M*.\n",
    "- Alternatively, use the Cell Type dropdown and select Markdown.\n",
    "\n",
    "This allows you to seamlessly switch between running code and writing descriptive text.\n",
    "\n",
    "#### Running and Stopping Cells\n",
    "Cells in JupyterLab can either be run (executed) or stopped, depending on whether you want to see the result of the code.\n",
    "\n",
    "1. **Running Cells:**\n",
    "To execute a cell, you can:\n",
    "\n",
    "- Windows/Linux: Press *Shift + Enter* to run the current cell and move to the next.\n",
    "\n",
    "- Mac: Press *Shift + Enter* to run the current cell and move to the next. You can also use *command + Enter* to run the cell and stay in that cell. \n",
    "\n",
    "- Alternatively, click the *Run* button in the toolbar.\n",
    "\n",
    "2. **Stopping a Cell:**\n",
    "If you want to stop the execution of a cell:\n",
    "\n",
    "- Navigate to *Kernel → Interrupt* in the top menu or use the Stop button in the toolbar.\n",
    "\n",
    "- Alternatively, use the keyboard shortcut *I* twice (press I quickly two times) to interrupt the current execution."
   ]
  },
  {
   "cell_type": "markdown",
   "id": "fd17563e-0c9c-4ca5-99a1-5887ec0d389f",
   "metadata": {},
   "source": [
    "### The Kernel in JupyterLab\n",
    "The kernel is the engine behind your notebook, it runs your Python code and remembers what you’ve done.\n",
    "\n",
    "When you press *Shift + Enter* to run a cell, the kernel executes that code and gives you a result (a number, a list, a graph, etc.).\n",
    "\n",
    "#### Understanding [ ], [*], and [1] in Jupyter Cells\n",
    "Every time you run a code cell, you’ll see a number appear inside square brackets next to the cell, like this:"
   ]
  },
  {
   "cell_type": "code",
   "execution_count": 1,
   "id": "e96b353e-06b4-481a-bf25-d13ea7f0bfc8",
   "metadata": {},
   "outputs": [],
   "source": [
    "#Your code goes here"
   ]
  },
  {
   "cell_type": "markdown",
   "id": "f42dda80-acc5-411c-bb4b-bed54adf1763",
   "metadata": {},
   "source": [
    "Here’s what those brackets mean:\n",
    "\n",
    "**[ ]** — The cell has not been run yet.\n",
    "\n",
    "**[*]** — The code is currently running (kernel is busy).\n",
    "\n",
    "**[1], [2], ...** — The number shows the order in which you ran the cells.\n",
    "\n",
    "For example:\n",
    "\n",
    "If you see [5] next to a cell, it means this was the fifth cell you ran.\n",
    "\n",
    "If a cell is stuck on [*], it might be taking a long time or be stuck — you can stop it using Kernel → Interrupt.\n",
    "\n",
    "#### Common Kernel Actions:\n",
    "1. **Run code:** Shift + Enter\n",
    "2. **Interrupt kernel:** Stop a running cell (especially useful if stuck on [*])\n",
    "3. **Restart kernel:** Clears everything the kernel remembers (variables, imports, etc.)\n",
    "\n",
    "Use Kernel → Restart if things get messy or confusing — then rerun your cells from the top to start fresh."
   ]
  },
  {
   "cell_type": "markdown",
   "id": "97d111d4-05a6-4c69-9f89-3a4a916dfd30",
   "metadata": {},
   "source": [
    "## Built-in Functions and Documentation\n",
    "Python provides a wide range of built-in functions—these are standard, preloaded tools that help with common tasks. They require no additional libraries or installations and are available immediately when you run Python.\n",
    "\n",
    "### What Are Built-in Functions?\n",
    "\n",
    "A built-in function is a function that is always available in Python. These are designed to simplify common programming tasks. For instance, rather than writing your own code to calculate the length of a string, you can use len().\n",
    "\n",
    "Built-in functions improve productivity and reduce the need for writing code from scratch for basic operations.\n",
    "\n",
    "### Common Built-in Functions and What They Do:\n",
    "\n",
    "- **print()**: Displays text or variable output.\n",
    "- **len()**: Returns the number of items in an object (string, list, etc.).\n",
    "- **type()**: Returns the data type of a variable (e.g., int, str).\n",
    "- **int()**, **float()**, **str()**: Convert between data types.\n",
    "- **range()**: Produces a sequence of numbers, often used in loops.\n",
    "- **sum()**: Adds numbers in a list or iterable.\n",
    "- **sorted()**: Returns a new list containing all items from the iterable in ascending order.\n",
    "- **max()** / **min()**: Finds the largest or smallest value in a dataset.\n"
   ]
  },
  {
   "cell_type": "code",
   "execution_count": 2,
   "id": "94245c63-46b1-4323-888d-393cf79f70ae",
   "metadata": {},
   "outputs": [],
   "source": [
    "# Example 1: Basic text output\n",
    "#Your code goes here\n",
    "\n",
    "# Example 2: Working with a string\n",
    "#Your code goes here\n",
    "\n",
    "# Example 3: Check data type\n",
    "#Your code goes here\n",
    "\n",
    "# Example 4: Sorting a list\n",
    "#Your code goes here\n",
    "\n",
    "# Example 5: Using range and sum\n",
    "#Your code goes here"
   ]
  },
  {
   "cell_type": "markdown",
   "id": "b4e06662-2e36-4f80-a681-914dcc9d42c0",
   "metadata": {},
   "source": [
    "### Exploring Python Documentation\n",
    "\n",
    "Learning how to explore the documentation is key to becoming self-sufficient in Python.\n",
    "\n",
    "**Python provides tools for this:**\n",
    "- help() function\n",
    "- The ? syntax in Jupyter Notebooks"
   ]
  },
  {
   "cell_type": "code",
   "execution_count": 3,
   "id": "1e9a2647-d65d-4045-ae24-7e1fc7242071",
   "metadata": {
    "scrolled": true
   },
   "outputs": [],
   "source": [
    "#Your code goes here"
   ]
  },
  {
   "cell_type": "markdown",
   "id": "81349dcc-6444-4845-9a46-10d5408ac08e",
   "metadata": {},
   "source": [
    "This gives detailed information about how to work with strings."
   ]
  },
  {
   "cell_type": "code",
   "execution_count": 4,
   "id": "792fe49d-ba22-4c7e-9277-4cc668fd1d3d",
   "metadata": {
    "scrolled": true
   },
   "outputs": [],
   "source": [
    "#Your code goes here"
   ]
  },
  {
   "cell_type": "markdown",
   "id": "ceb47c12-b3d7-4327-ad80-2649712f97db",
   "metadata": {},
   "source": [
    "This brings up a quick help popup describing the str class.\n",
    "\n",
    "You can also combine help with other functions:"
   ]
  },
  {
   "cell_type": "code",
   "execution_count": 5,
   "id": "4aac9683-03d3-4afa-9fbf-d24b2d6de00a",
   "metadata": {},
   "outputs": [],
   "source": [
    "#Your code goes here"
   ]
  },
  {
   "cell_type": "markdown",
   "id": "36a90305-6739-4add-b695-e3da267efe09",
   "metadata": {},
   "source": [
    "This shows how the len() function works and what types it supports."
   ]
  },
  {
   "cell_type": "markdown",
   "id": "6020aabf-cad6-4b62-b5a7-a34f3864eba4",
   "metadata": {},
   "source": [
    "## Libraries and Modules\n",
    "Python's strength lies in its standard library and external packages—collections of modules that offer specialized functionality. A module is simply a file containing Python definitions and statements. A library is a collection of modules that can be imported and used in your programs.\n",
    "\n",
    "### Why Libraries Matter:\n",
    "\n",
    "They save time and provide tested, optimized tools for:\n",
    "- Text processing\n",
    "- Data handling\n",
    "- Visualization\n",
    "- Machine learning\n",
    "- File and network operations\n",
    "\n",
    "### Importing Modules\n",
    "To use a module, you import it into your Python script:"
   ]
  },
  {
   "cell_type": "code",
   "execution_count": 6,
   "id": "130a8156-adeb-42d6-be0d-f445a9069620",
   "metadata": {},
   "outputs": [],
   "source": [
    "#Your code goes here"
   ]
  },
  {
   "cell_type": "markdown",
   "id": "c1928b73-dd9b-41ec-89cb-04d9347891b3",
   "metadata": {},
   "source": [
    "You can also import specific functions or classes:"
   ]
  },
  {
   "cell_type": "code",
   "execution_count": 7,
   "id": "9fcdecba-c712-49c3-ac7e-d05816dcaeb1",
   "metadata": {},
   "outputs": [],
   "source": [
    "#Your code goes here"
   ]
  },
  {
   "cell_type": "markdown",
   "id": "c4792329-0d0e-4fb4-96a7-6a493c17a9cf",
   "metadata": {},
   "source": [
    "Or give a library module an alias:"
   ]
  },
  {
   "cell_type": "code",
   "execution_count": 8,
   "id": "df202f31-d7bb-44e6-962b-3809c6649afa",
   "metadata": {},
   "outputs": [],
   "source": [
    "#Your code goes here"
   ]
  },
  {
   "cell_type": "markdown",
   "id": "d0561218-a4c0-4d88-b202-257044996afb",
   "metadata": {},
   "source": [
    "### Built-in Python Libraries\n",
    "Python comes with a rich standard library — a collection of modules and packages that are bundled with Python itself. This means you don’t need to install anything extra to start using them. They’re always available whenever you run Python, making it super convenient to perform many common programming tasks right out of the box.\n",
    "\n",
    "#### *random* : Generate random numbers\n",
    "\n",
    "Useful for creating random data, games, simulations, or selecting random elements."
   ]
  },
  {
   "cell_type": "code",
   "execution_count": 9,
   "id": "f4908586-a5db-4d70-a23d-1ffd45a1fd0d",
   "metadata": {},
   "outputs": [],
   "source": [
    "#Your code goes here"
   ]
  },
  {
   "cell_type": "markdown",
   "id": "89ac62a7-5779-4886-94ba-d4e6f55f8a9c",
   "metadata": {},
   "source": [
    "#### *datetime* — Work with dates and times\n",
    "Easily get the current date/time or perform date calculations."
   ]
  },
  {
   "cell_type": "code",
   "execution_count": 10,
   "id": "31fa641d-c739-44e3-a0e7-01b0caa76b4d",
   "metadata": {},
   "outputs": [],
   "source": [
    "#Your code goes here"
   ]
  },
  {
   "cell_type": "markdown",
   "id": "ace4fb15-9a27-4c81-80cb-fe8f86d811d2",
   "metadata": {},
   "source": [
    "#### *os* — Interact with your computer’s operating system\n",
    "Get info about files, directories, environment variables, or execute system commands."
   ]
  },
  {
   "cell_type": "code",
   "execution_count": 11,
   "id": "2be0c97b-2514-460e-b9b8-e3c11114dab0",
   "metadata": {},
   "outputs": [],
   "source": [
    "#Your code goes here"
   ]
  },
  {
   "cell_type": "markdown",
   "id": "6bc083ba-5492-4c0b-b2c0-2871399a67ae",
   "metadata": {},
   "source": [
    "### External Libraries\n",
    "While Python’s built-in libraries cover a lot, many advanced tasks require specialized tools, this is where external libraries come in. These are packages developed by the Python community (or companies) and shared through the Python Package Index (PyPI). You usually install them using the package manager *pip*.\n",
    "\n",
    "#### What Are External Libraries?\n",
    "- They extend Python’s capabilities beyond the standard library.\n",
    "- Provide tools for data science, machine learning, web development, image processing, automation, and much more.\n",
    "- They often come with many modules and sub-packages bundled together, making them powerful libraries.\n",
    "\n",
    "#### Installing External Libraries\n",
    "Normally, you install external libraries using the command line:"
   ]
  },
  {
   "cell_type": "raw",
   "id": "181c4d81-9539-4865-bd82-5ef06bf1d233",
   "metadata": {},
   "source": [
    "pip install library-name"
   ]
  },
  {
   "cell_type": "markdown",
   "id": "8b01abf7-6440-43ad-b20e-a222ef7ca4e2",
   "metadata": {},
   "source": [
    "For example:"
   ]
  },
  {
   "cell_type": "raw",
   "id": "4cce3c14-9f22-4d37-8528-ab5009dc4f12",
   "metadata": {},
   "source": [
    "pip install numpy\n",
    "pip install pandas\n",
    "pip install matplotlib"
   ]
  },
  {
   "cell_type": "markdown",
   "id": "903254b0-cf49-4147-86cd-d5b1c5a7b6b6",
   "metadata": {},
   "source": [
    "Most popular external libraries used for data science and scientific computing come pre-installed in JupyterLab environments such as:\n",
    "- Anaconda distribution (a popular Python distribution for data science)\n",
    "- Cloud platforms like Google Colab\n",
    "- Many managed JupyterHub setups\n",
    "\n",
    "This means when you open a notebook in JupyterLab, you can often import and use libraries like *numpy*, *pandas*, and *matplotlib* immediately, no extra installation required.\n",
    "\n",
    "Let's see some examples of these libraries:\n",
    "\n",
    "#### *numpy* — Fast numerical computing\n",
    "Provides powerful arrays and mathematical functions."
   ]
  },
  {
   "cell_type": "code",
   "execution_count": 12,
   "id": "ece08d0c-51b7-4562-a339-58fef981bba0",
   "metadata": {},
   "outputs": [],
   "source": [
    "#Your code goes here"
   ]
  },
  {
   "cell_type": "markdown",
   "id": "a044c5c4-e5a6-4155-aaff-8df76036f791",
   "metadata": {},
   "source": [
    "#### *pandas* — Data manipulation and analysis\n",
    "Makes working with tabular data easy."
   ]
  },
  {
   "cell_type": "code",
   "execution_count": 13,
   "id": "9ea6330c-24c5-4bc4-92da-13a990482d6e",
   "metadata": {},
   "outputs": [],
   "source": [
    "#Your code goes here"
   ]
  },
  {
   "cell_type": "markdown",
   "id": "f382f27a-d212-4b75-9350-bb296a768e2b",
   "metadata": {},
   "source": [
    "#### *matplotlib* — Data visualization\n",
    "Create charts and graphs."
   ]
  },
  {
   "cell_type": "code",
   "execution_count": 14,
   "id": "ad7f98dc-e057-43ed-a1db-e84ba0d238c6",
   "metadata": {},
   "outputs": [],
   "source": [
    "#Your code goes here"
   ]
  }
 ],
 "metadata": {
  "kernelspec": {
   "display_name": "Python 3 (ipykernel)",
   "language": "python",
   "name": "python3"
  },
  "language_info": {
   "codemirror_mode": {
    "name": "ipython",
    "version": 3
   },
   "file_extension": ".py",
   "mimetype": "text/x-python",
   "name": "python",
   "nbconvert_exporter": "python",
   "pygments_lexer": "ipython3",
   "version": "3.12.7"
  }
 },
 "nbformat": 4,
 "nbformat_minor": 5
}
