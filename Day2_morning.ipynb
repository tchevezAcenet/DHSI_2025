{
 "cells": [
  {
   "cell_type": "markdown",
   "id": "8df01c70-00eb-4db0-b11b-c67887add6b5",
   "metadata": {},
   "source": [
    "# Introductory Programming with Python (Part 1)\n",
    "\n",
    "## Variables\n",
    "\n",
    "Before we jump into analyzing data, let’s talk about one of the most powerful tools in programming: ***variables***. Think of a variable like a storage box where you can put information that you might want to use later. This is how we make computers remember things for us!\n",
    "\n",
    "Let’s start with something simple. Imagine using Python like a calculator. You can do quick math, like this:"
   ]
  },
  {
   "cell_type": "code",
   "execution_count": 2,
   "id": "347f42dc-e618-4cef-b9c0-e53e314c172f",
   "metadata": {},
   "outputs": [],
   "source": [
    "#your code goes here"
   ]
  },
  {
   "cell_type": "markdown",
   "id": "b43f5f7b-ad94-4213-8aaf-f031e0b64b66",
   "metadata": {},
   "source": [
    "This is very handy, but let’s be honest, it’s not very exciting. What makes programming powerful is the ability to store this result or any other data, and use it again whenever we need it. That’s where variables come in.\n",
    "\n",
    "### What Is a Variable?\n",
    "A variable is a name that refers to a value. In the previous example, we saw that we can use Python as an advanced calculator. However, the results of these computations are lost after we perform our operations. If we want to save and reuse any value in a code, we need to save these computations in a place in computer memory to be able to access it in the future.\n",
    "\n",
    "Variables are names that we associate with a memory location in computers. As such variables are not values themselves but they point to a memory location where the actual values are stored."
   ]
  },
  {
   "cell_type": "code",
   "execution_count": 3,
   "id": "b62b135a-3e9e-4daa-a91f-c10fd8c45dc1",
   "metadata": {},
   "outputs": [],
   "source": [
    "#your code goes here"
   ]
  },
  {
   "cell_type": "markdown",
   "id": "d4bddb99-8088-4a6e-b954-3e56db61531c",
   "metadata": {},
   "source": [
    "Now, Python will remember that **weight_kg equals 60**. Instead of doing the math all over again or writing the number repeatedly, we just use weight_kg whenever we need it.\n",
    "\n",
    "**A Few Rules for Naming Variables:**\n",
    "- You can use **letters**, **digits**, and **underscores (_)**, but the name ***can’t*** start with a ***digit***.\n",
    "- Variable names are case-sensitive, so **weight** and **Weight** are two different things.\n",
    "\n",
    "For example:\n",
    "- **weight0** is valid, but **0weight** isn’t.\n",
    "- **weight_kg** is different from **Weight_kg**."
   ]
  },
  {
   "cell_type": "markdown",
   "id": "70d1df46-7ce0-4a30-903e-a8107f17874b",
   "metadata": {},
   "source": [
    "### Types of Data in Python\n",
    "Python can work with different types of data. Three of the most common types are:\n",
    "\n",
    "- **Integers** (whole numbers like 1, 2, 100)\n",
    "- **Floating point numbers** (numbers with decimals like 2.5, 60.3)\n",
    "- **Strings** (text like \"Hello\", \"001\")\n",
    "- **Booleans** (True or False)"
   ]
  },
  {
   "cell_type": "markdown",
   "id": "8a23d039-08c0-4c2a-9a3d-91d26f1cc808",
   "metadata": {},
   "source": [
    "For example, let’s say we want to store a patient’s weight. If the weight is exactly 60 kilograms, we can use an integer:"
   ]
  },
  {
   "cell_type": "code",
   "execution_count": 4,
   "id": "6559d1ad-39dd-4235-bd2d-598d7278b023",
   "metadata": {},
   "outputs": [],
   "source": [
    "#your code goes here"
   ]
  },
  {
   "cell_type": "markdown",
   "id": "11ff29ef-2095-4dee-bfa2-7823ae7f13f7",
   "metadata": {},
   "source": [
    "But if we want to be more precise, like 60.3 kilograms, we can use a floating point number:"
   ]
  },
  {
   "cell_type": "code",
   "execution_count": 5,
   "id": "ad724746-0584-4ef5-b7d9-3fe4f520c6ab",
   "metadata": {},
   "outputs": [],
   "source": [
    "#your code goes here"
   ]
  },
  {
   "cell_type": "markdown",
   "id": "ac14e004-efb8-4c53-8628-3edd22a31349",
   "metadata": {},
   "source": [
    "Here, *weight_kg* is a variable that stores a decimal number, or a **float**. It could represent any weight in kg measurement, which we might later use for calculations or comparisons."
   ]
  },
  {
   "cell_type": "markdown",
   "id": "55066efa-1515-41ac-a21f-641bca116e1d",
   "metadata": {},
   "source": [
    "We can also store text:"
   ]
  },
  {
   "cell_type": "code",
   "execution_count": 6,
   "id": "dd13e10f-2aed-4f12-8377-c0f856140001",
   "metadata": {},
   "outputs": [],
   "source": [
    "#your code goes here"
   ]
  },
  {
   "cell_type": "markdown",
   "id": "2b5a7443-d044-488c-bf45-112eebfe35b2",
   "metadata": {},
   "source": [
    "**Strings** can store text data, which can be useful for labeling or adding metadata.\n",
    "\n",
    "And lastly, we have **booleans**, which are used to represent true or false values. They are helpful in logical operations or conditions:"
   ]
  },
  {
   "cell_type": "code",
   "execution_count": 7,
   "id": "a4a27635-ce85-468a-97b7-a023db67028a",
   "metadata": {},
   "outputs": [],
   "source": [
    "#your code goes here"
   ]
  },
  {
   "cell_type": "markdown",
   "id": "4a886080-e8c6-4362-a6ef-8ec5e263a4ab",
   "metadata": {},
   "source": [
    "With this variable, we could decide whether to apply certain calculations or adjustments based on the height. It can help us write cleaner, more conditional code."
   ]
  },
  {
   "cell_type": "markdown",
   "id": "486d1ba7-e463-424b-8d6c-4a26873b16b8",
   "metadata": {},
   "source": [
    "## Basic Operations with Variables\n",
    "\n",
    "### Working with Numbers: Integers and Floats\n",
    "\n",
    "**Addition** is one of the simplest operations. If you want to increase a value, you just add to it. For example, if you have a population measurement of 20000 and want to add 5000 more, Python gives you a new population number of 25000 like this:"
   ]
  },
  {
   "cell_type": "code",
   "execution_count": 8,
   "id": "a4e00fa9-55d8-439c-935b-4d7a8bd288d8",
   "metadata": {},
   "outputs": [],
   "source": [
    "#your code goes here"
   ]
  },
  {
   "cell_type": "markdown",
   "id": "58377bae-28e4-41b7-ae61-587ce32c1b6f",
   "metadata": {},
   "source": [
    "Other operations are just as simple. If you want to double a temperature value, you multiply it by 2 like this:"
   ]
  },
  {
   "cell_type": "code",
   "execution_count": 9,
   "id": "add90e1e-c17d-446c-be57-80fbea2def11",
   "metadata": {},
   "outputs": [],
   "source": [
    "#your code goes here"
   ]
  },
  {
   "cell_type": "markdown",
   "id": "6f49bf4f-be04-4d7f-a3ca-2bfd0001fc90",
   "metadata": {},
   "source": [
    "Division also works the same way: dividing 20000 by 100 gives 200.0 like this:"
   ]
  },
  {
   "cell_type": "code",
   "execution_count": 10,
   "id": "3609e963-6668-4e90-88e4-d34e7598403c",
   "metadata": {},
   "outputs": [],
   "source": [
    "#your code goes here"
   ]
  },
  {
   "cell_type": "markdown",
   "id": "22547a00-0506-4e88-bb31-7d264c51b8d3",
   "metadata": {},
   "source": [
    "Python can also handle exponents, like squaring numbers. If you want to find what 20000 times 20000 is, you can get it this way:"
   ]
  },
  {
   "cell_type": "code",
   "execution_count": 11,
   "id": "c27ebe8b-d338-499b-9b5a-28b96fcf4c25",
   "metadata": {
    "scrolled": true
   },
   "outputs": [],
   "source": [
    "#your code goes here"
   ]
  },
  {
   "cell_type": "markdown",
   "id": "7dbd7114-f013-4dcc-acd9-4eb02f5498c0",
   "metadata": {},
   "source": [
    " This is useful for calculating things like squared distances or other exponential relationships."
   ]
  },
  {
   "cell_type": "markdown",
   "id": "da4d2fe4-fca1-45e8-80f3-f316b780f0b2",
   "metadata": {},
   "source": [
    " ### Exercise 1:\n",
    "You are studying urban growth in a geography class. City A had a population of 1,500,000 people in the year 2000, and it grew to 2,100,000 people by the year 2020.\n",
    "\n",
    "Your task is to write a Python program that:\n",
    "- Stores the population values in variables.\n",
    "- Calculates how much the population has grown.\n",
    "- Displays the result using print().\n"
   ]
  },
  {
   "cell_type": "code",
   "execution_count": 12,
   "id": "c98eb49f-c60a-4ffb-96cb-33cbc9e372bc",
   "metadata": {},
   "outputs": [],
   "source": [
    "#your code goes here"
   ]
  },
  {
   "cell_type": "markdown",
   "id": "f689363f-f32c-4ca4-aba8-4ae89a8ae9aa",
   "metadata": {},
   "source": [
    "### Working with Strings\n",
    "With strings, one common thing we do is combine them, known as **concatenation**. Imagine you have two words, first name and last name, like \"John\" and \"Doe\", and you want to make them into one full name: \"John Doe.\" You do this by placing them side by side with a plus sign between them, and Python combines them into one."
   ]
  },
  {
   "cell_type": "code",
   "execution_count": 13,
   "id": "cd998b96-118b-4f3b-8680-175950dad8e1",
   "metadata": {},
   "outputs": [],
   "source": [
    "#your code goes here"
   ]
  },
  {
   "cell_type": "markdown",
   "id": "25114e3f-e560-4877-8cea-525b6113974a",
   "metadata": {},
   "source": [
    "Another thing you can do with strings is **repeat** them. For instance, if you have the word \"hello,\" you could repeat it multiple times, like \"hello hello hello\" In Python, you simply tell it to multiply the word by the number of times you want it to appear like this:"
   ]
  },
  {
   "cell_type": "code",
   "execution_count": 14,
   "id": "3e622a4f-9e6f-4063-a773-c7890b03c808",
   "metadata": {},
   "outputs": [],
   "source": [
    "#your code goes here"
   ]
  },
  {
   "cell_type": "markdown",
   "id": "ae358708-f6de-443a-afd7-99a29af1d264",
   "metadata": {},
   "source": [
    "### Working with Booleans\n",
    "\n",
    "**Booleans** in Python are very straightforward: they represent only two options, *True or False*. They’re useful when you’re asking questions or checking if something meets certain conditions.\n",
    "\n",
    "For example, let’s say you want to check if a town’s population is above a certain number. Imagine the town has a population of 20,000 people, and you want to know if it’s larger than 10,000:"
   ]
  },
  {
   "cell_type": "code",
   "execution_count": 15,
   "id": "796084c7-fa7b-48ac-887a-07a2fd0a2885",
   "metadata": {},
   "outputs": [],
   "source": [
    "#your code goes here"
   ]
  },
  {
   "cell_type": "markdown",
   "id": "90b5b338-f32b-413a-8ec7-9c05fe35dc38",
   "metadata": {},
   "source": [
    "We can also ask Python to check **multiple conditions** at once. Maybe you want to know if a town has both a large population (over 10,000 people) and a low unemployment rate (under 5%). You can combine these two questions into one. If both are true, Python returns True; if either one isn’t, it returns False."
   ]
  },
  {
   "cell_type": "code",
   "execution_count": 16,
   "id": "e655b43f-28a3-4f18-bf75-19c40353e81c",
   "metadata": {},
   "outputs": [],
   "source": [
    "#your code goes here"
   ]
  },
  {
   "cell_type": "markdown",
   "id": "a20bf97b-e625-48cd-a197-d04def83238a",
   "metadata": {},
   "source": [
    "### Mixing Types Together\n",
    "\n",
    "Sometimes, Python lets us mix different types in ways that make sense. For example, in Python, *True is treated as 1 and False as 0*. So if you're working with a number and a condition, Python might add 1 if the condition is True, or add nothing if it's False. This can be handy for quick adjustments, like slightly increasing a value if a condition is met."
   ]
  },
  {
   "cell_type": "code",
   "execution_count": 17,
   "id": "811a0dc2-2cb3-4a37-9b73-8593278bb6fe",
   "metadata": {},
   "outputs": [],
   "source": [
    "#your code goes here"
   ]
  },
  {
   "cell_type": "markdown",
   "id": "39ac0915-17c6-4cea-bdd5-9e8438f2c171",
   "metadata": {},
   "source": [
    "These simple operations let you do quite a bit in Python. With strings, you can create descriptive phrases; with numbers, you can add, multiply, and do more complex math; with booleans, you can check conditions and make decisions. This flexibility is what makes Python both powerful and beginner-friendly—it’s easy to write code that mimics real-world problem-solving, step by step."
   ]
  },
  {
   "cell_type": "markdown",
   "id": "40bdc51a-8774-4556-b888-28d1c28225a2",
   "metadata": {},
   "source": [
    "## Data Structures\n",
    "**Data structures** are essential for organizing and managing data in programming. In Python, we have several types of data structures, but three of the most commonly used ones are *lists, tuples, and dictionaries*. Each of these has unique characteristics and uses that make them suitable for different tasks.\n",
    "\n",
    "### Lists\n",
    "A **list** in Python is a collection of items that can be modified. This means you can add, remove, or change items in a list as needed. Lists are defined using square brackets []:"
   ]
  },
  {
   "cell_type": "code",
   "execution_count": 18,
   "id": "f5645e44-fba4-4ffc-80a8-dd393e053947",
   "metadata": {},
   "outputs": [],
   "source": [
    "#your code goes here  "
   ]
  },
  {
   "cell_type": "markdown",
   "id": "2f61070c-9ea8-425d-b95d-05ed47af0718",
   "metadata": {},
   "source": [
    "In this example, we have a list called **grades** that stores test scores from different students."
   ]
  },
  {
   "cell_type": "markdown",
   "id": "b4fe5bd3-510d-4ddf-a65d-fc353147655c",
   "metadata": {},
   "source": [
    "#### Using Lists:\n",
    "**1. Accessing Lists:** Each item in a list has a position called an index, starting from 0. You can access any item using its index:"
   ]
  },
  {
   "cell_type": "code",
   "execution_count": 19,
   "id": "102e71eb-b4f7-4bb7-a901-519773f844ad",
   "metadata": {},
   "outputs": [],
   "source": [
    "#your code goes here"
   ]
  },
  {
   "cell_type": "markdown",
   "id": "3fe369da-2161-4f13-8364-092233d8681c",
   "metadata": {},
   "source": [
    "**2. Modifying Items:** Lists are mutable, meaning you can change their contents:"
   ]
  },
  {
   "cell_type": "code",
   "execution_count": 20,
   "id": "16eb12a7-3598-46bb-b990-54d7c68eb323",
   "metadata": {},
   "outputs": [],
   "source": [
    "#your code goes here"
   ]
  },
  {
   "cell_type": "markdown",
   "id": "aac3a1d2-65e5-483a-b45c-9d1a2f6e844c",
   "metadata": {},
   "source": [
    "**3. Adding Items:** You can add new items to the end of a list using the ***append()*** method:"
   ]
  },
  {
   "cell_type": "code",
   "execution_count": 21,
   "id": "640c7b38-ff1c-4a89-aa69-f6774c41cfb1",
   "metadata": {},
   "outputs": [],
   "source": [
    "#your code goes here"
   ]
  },
  {
   "cell_type": "markdown",
   "id": "13c3d4c1-e72e-4c25-ab7d-c74982358f2a",
   "metadata": {},
   "source": [
    "**4. Removing Items:** You can remove items from a list using the **remove()** method or the **pop()** method:"
   ]
  },
  {
   "cell_type": "code",
   "execution_count": 22,
   "id": "28fe9f2b-aa34-4ec4-981a-e9492378b789",
   "metadata": {},
   "outputs": [],
   "source": [
    "#your code goes here"
   ]
  },
  {
   "cell_type": "code",
   "execution_count": 23,
   "id": "2fb9d328-a5b9-4286-93d7-53d144e5ecdd",
   "metadata": {},
   "outputs": [],
   "source": [
    "#your code goes here"
   ]
  },
  {
   "cell_type": "markdown",
   "id": "1113b09b-494f-48c5-8019-5175523a29b6",
   "metadata": {},
   "source": [
    "Consider a scenario where you are recording student test scores for a class. You can store these scores in a list. As new test results come in, you can easily update the list by adding new scores or modifying existing ones."
   ]
  },
  {
   "cell_type": "markdown",
   "id": "64f93c7b-5b09-4d8b-a870-4f07d86fcd41",
   "metadata": {},
   "source": [
    "### Exercise 2\n",
    "- Create a list named *philosophers* that contains these names as strings:\n",
    "*\"Plato\", \"Aristotle\", \"Confucius\",* and *\"Socrates\"*.\n",
    "- Add the philosopher *\"Descartes\"* to the end of the list.\n",
    "- Remove \"Confucius\" from the list.\n",
    "- Print the updated list to see the changes."
   ]
  },
  {
   "cell_type": "code",
   "execution_count": 24,
   "id": "2e15deb4-f452-4b6a-bc79-a15313f82c61",
   "metadata": {},
   "outputs": [],
   "source": [
    "#your code goes here"
   ]
  },
  {
   "cell_type": "markdown",
   "id": "2083312c-7db5-4901-b0cc-3b8ce622e7ed",
   "metadata": {},
   "source": [
    "### Tuples\n",
    "A **tuple** is a collection of items, similar to a list, but it is ***immutable***. This means that once a tuple is created, it *cannot be changed*. Tuples are defined using parentheses ()."
   ]
  },
  {
   "cell_type": "code",
   "execution_count": 25,
   "id": "7aa1b884-c7b0-4080-bd07-cc37554d24c8",
   "metadata": {},
   "outputs": [],
   "source": [
    "#your code goes here"
   ]
  },
  {
   "cell_type": "markdown",
   "id": "732c6f56-dee4-4782-a90f-49eff4ab91ea",
   "metadata": {},
   "source": [
    "This tuple represents the geographic coordinates of a specific location."
   ]
  },
  {
   "cell_type": "markdown",
   "id": "16dbdee1-94a9-4f0e-b35b-7d7b90b7a773",
   "metadata": {},
   "source": [
    "#### Using Tuples:\n",
    "\n",
    "**1. Accessing Items:** Just like lists, you can access items in a tuple using their index:"
   ]
  },
  {
   "cell_type": "code",
   "execution_count": 26,
   "id": "44adf150-4660-4217-9346-849d57a053a0",
   "metadata": {},
   "outputs": [],
   "source": [
    "#your code goes here"
   ]
  },
  {
   "cell_type": "code",
   "execution_count": 27,
   "id": "763ce3fb-b325-47b8-86bf-4cce542f2f47",
   "metadata": {},
   "outputs": [],
   "source": [
    "#your code goes here"
   ]
  },
  {
   "cell_type": "markdown",
   "id": "a2a4a65e-a808-4c7b-8dcb-681599722173",
   "metadata": {},
   "source": [
    "**2. Benefits of Immutability:** Since tuples cannot be changed, they are useful for storing fixed data that should not be altered. This can help prevent accidental changes to important values. \n",
    "\n",
    "In oceanography, you might want to store the coordinates of a specific research station. Since these coordinates are fixed and won’t change, a tuple is the ideal choice. If you need to reference these coordinates later in your code, you can do so confidently, knowing they will not change."
   ]
  },
  {
   "cell_type": "markdown",
   "id": "e91a1fb2-9d8b-44cd-9aea-7a236020abdd",
   "metadata": {},
   "source": [
    "### Dictionaries \n",
    "A **dictionary** in Python is a collection of ***key-value pairs***, similar to how a real dictionary has words (keys) and their meanings (values). Each key in a dictionary must be unique, and you can use it to access its corresponding value. Dictionaries are defined using curly braces {}."
   ]
  },
  {
   "cell_type": "code",
   "execution_count": 28,
   "id": "4f41b324-3c63-40e0-8742-4c5e90f2d8cb",
   "metadata": {},
   "outputs": [],
   "source": [
    "#your code goes here"
   ]
  },
  {
   "cell_type": "markdown",
   "id": "daa23219-d195-48ca-b935-c966efa2b441",
   "metadata": {},
   "source": [
    "In this example, we have a dictionary called student_data that stores various pieces of information about a student's academic details."
   ]
  },
  {
   "cell_type": "markdown",
   "id": "55279890-0f28-4c90-83bd-0b0f17a8196c",
   "metadata": {},
   "source": [
    "#### Using Dictionaries:\n",
    "\n",
    "**1. Accessing Values:** You can retrieve a value using its corresponding key."
   ]
  },
  {
   "cell_type": "code",
   "execution_count": 29,
   "id": "b619cfdc-3918-4497-ac63-b6de670c4c2f",
   "metadata": {},
   "outputs": [],
   "source": [
    "#your code goes here "
   ]
  },
  {
   "cell_type": "markdown",
   "id": "4f5b34ed-0ab6-49e2-9a7f-09418eef89bf",
   "metadata": {},
   "source": [
    "**2. Adding or Modifying Values:** You can easily add new key-value pairs or modify existing ones:"
   ]
  },
  {
   "cell_type": "code",
   "execution_count": 30,
   "id": "8305e14b-20b6-4eda-8421-aa19f2f34657",
   "metadata": {},
   "outputs": [],
   "source": [
    "#Modify Existing one\n",
    "#your code goes here "
   ]
  },
  {
   "cell_type": "code",
   "execution_count": 31,
   "id": "a0d5e596-771c-4d3f-a6ae-d2ed671b3148",
   "metadata": {},
   "outputs": [],
   "source": [
    "#Adding new key-value pair\n",
    "#your code goes here "
   ]
  },
  {
   "cell_type": "markdown",
   "id": "c7aa66ec-147d-478f-921e-e8a458e06e21",
   "metadata": {},
   "source": [
    "**3. Removing Key-Value Pairs:** You can remove a key-value pair using the **del** statement:"
   ]
  },
  {
   "cell_type": "code",
   "execution_count": 32,
   "id": "276ee14e-2f46-4ccd-b3af-eb96301c8429",
   "metadata": {},
   "outputs": [],
   "source": [
    "#your code goes here"
   ]
  },
  {
   "cell_type": "markdown",
   "id": "4e3e52c7-6cfc-48aa-b18d-b69993b89eed",
   "metadata": {},
   "source": [
    "### Exercise 3\n",
    "1. Create a dictionary named countries with these key-value pairs:\n",
    "- \"United States\" : \"English\"\n",
    "- \"Mexico\" : \"Spanish\"\n",
    "- \"France\" : \"French\"\n",
    "- \"Canada\" : \"English and French\"\n",
    "\n",
    "2. Add a new entry to the dictionary: \"Brazil\" : \"Portuguese\"\n",
    "3. Remove the key \"France\" and its value using the del statement.\n",
    "4. Print the updated dictionary every time.\n"
   ]
  },
  {
   "cell_type": "code",
   "execution_count": 33,
   "id": "81528c52-8577-41c8-b042-a1b1d895b25e",
   "metadata": {},
   "outputs": [],
   "source": [
    "#your code goes here"
   ]
  },
  {
   "cell_type": "markdown",
   "id": "9c6e49e6-caee-444b-bccd-1257dc8f3480",
   "metadata": {
    "jp-MarkdownHeadingCollapsed": true
   },
   "source": [
    "#### Choosing the Right Data Structure\n",
    "\n",
    "Selecting the appropriate data structure is crucial. Here’s a quick guide:\n",
    "\n",
    "- **Use Lists** when you need to store a collection of items that you might want to change or add to, like student grades over multiple subjects or assignments.\n",
    "\n",
    "- **Use Tuples** for fixed data points that won't change, such as geographic coordinates of research locations.\n",
    "\n",
    "- **Use Dictionaries** when you need to associate related information together, such as all academic details for a specific student.\n",
    "\n",
    "Choosing the right data structure will make your data management more efficient and your code easier to understand."
   ]
  },
  {
   "cell_type": "markdown",
   "id": "0a6934af-1752-4841-ba1e-1ce39b9a14eb",
   "metadata": {},
   "source": [
    "## Control Structures\n",
    "**Control structures** are essential programming constructs that allow us to dictate the flow of our program. In Python, the most commonly used control structures include loops (for and while) and conditionals (if and else). These structures enable us to repeat actions, make decisions based on conditions, and manage how we process data.\n",
    "\n",
    "### Conditionals\n",
    "**Conditionals** allow us to execute certain blocks of code based on specific conditions. This means that our program can make decisions and act differently depending on the situation. The most common conditional statements in Python are *if, elif, and else*.\n",
    "\n",
    "#### Basic Structure of Conditionals:\n",
    "\n",
    "Here’s a simple structure for using conditionals:"
   ]
  },
  {
   "cell_type": "raw",
   "id": "417b16f5-528e-4fa8-80d8-d5cbffa49659",
   "metadata": {},
   "source": [
    "if condition:\n",
    "    # Code to execute if the condition is true\n",
    "elif another_condition:\n",
    "    # Code to execute if the first condition is false and this one is true\n",
    "else:\n",
    "    # Code to execute if both conditions are false"
   ]
  },
  {
   "cell_type": "markdown",
   "id": "bc8fb025-e89c-47b3-9500-59ba29ef25d2",
   "metadata": {},
   "source": [
    "#### Comparison Operators\n",
    "\n",
    "Comparison operators allow us to compare two values. Here are the most commonly used comparison operators in Python:"
   ]
  },
  {
   "cell_type": "raw",
   "id": "af0bb9ed-11ca-4fab-b13b-3f7e693c0147",
   "metadata": {},
   "source": [
    "==:  Equal to (checks if two values are the same)\n",
    "!=:  Not equal to (checks if two values are different)\n",
    " >:  Greater than (checks if the left value is larger than the right)\n",
    " <:  Less than (checks if the left value is smaller than the right)\n",
    ">=:  Greater than or equal to (checks if the left value is larger than or equal to the right)\n",
    "<=:  Less than or equal to (checks if the left value is smaller than or equal to the right)"
   ]
  },
  {
   "cell_type": "markdown",
   "id": "41f8fd67-9b89-4ca5-912a-83335a55cd18",
   "metadata": {},
   "source": [
    "Let’s say we want to categorize towns based on their population size:"
   ]
  },
  {
   "cell_type": "code",
   "execution_count": 34,
   "id": "1a8cb3b5-b2e4-452c-8dcb-bea8f57f6f2e",
   "metadata": {},
   "outputs": [],
   "source": [
    "#your code goes here"
   ]
  },
  {
   "cell_type": "markdown",
   "id": "c8dc762f-261e-482d-a811-0e0516f7d6ed",
   "metadata": {},
   "source": [
    "In this example:\n",
    "\n",
    "- If the population is less than 5,000, it prints \"Small town.\"\n",
    "- If the population is between 5,000 and 20,000 (inclusive), it prints \"Medium-sized town.\"\n",
    "- If the population is over 20,000, it prints \"Large town.\""
   ]
  },
  {
   "cell_type": "markdown",
   "id": "fb426a32-6923-4d89-bd00-c49eeb83f363",
   "metadata": {},
   "source": [
    "#### Logical Operators\n",
    "\n",
    "**Logical operators** allow us to combine multiple conditions. The most commonly used logical operators are:\n",
    "\n",
    "- **and:** Returns True if both conditions are true.\n",
    "- **or:** Returns True if at least one condition is true.\n",
    "- **not:** Reverses the truth value (makes True become False and vice versa).\n",
    "\n",
    "Let’s say we want to check if someone’s annual income falls within the middle-income bracket:"
   ]
  },
  {
   "cell_type": "code",
   "execution_count": 35,
   "id": "05960dfc-3a5c-4ac6-9f8a-78bcb96b1a90",
   "metadata": {},
   "outputs": [],
   "source": [
    "#your code goes here"
   ]
  },
  {
   "cell_type": "markdown",
   "id": "d3f32d62-28fe-4fcb-8d22-2843962218b4",
   "metadata": {},
   "source": [
    "In this example:\n",
    "\n",
    "- The condition annual_income >= 30000 and annual_income <= 70000 checks if the income is between 30,000 and 70,000 inclusive.\n",
    "- If both are true, it prints \"Middle-income bracket.\""
   ]
  },
  {
   "cell_type": "markdown",
   "id": "acc05d1a-64a4-4f54-be9e-65fe5e0820d6",
   "metadata": {},
   "source": [
    "### Loops\n",
    "**Loops** allow us to repeat a block of code multiple times. This is especially useful when we have to process a collection of items, like a list of temperature readings or salinity measurements. The two primary types of loops in Python are ***for loops*** and ***while loops***.\n",
    "\n",
    "#### For Loops:\n",
    "A ***for loop*** is used to iterate over a sequence (like a list or a tuple). Here’s the basic structure:"
   ]
  },
  {
   "cell_type": "raw",
   "id": "4150e119-a087-4f4c-aa1e-609331cc0ca8",
   "metadata": {},
   "source": [
    "for item in sequence:\n",
    "    # Code to execute for each item"
   ]
  },
  {
   "cell_type": "markdown",
   "id": "3aa4e312-2b9d-4dea-93df-a056559062f1",
   "metadata": {},
   "source": [
    "Let’s say we want to print out each survey response score from a list:"
   ]
  },
  {
   "cell_type": "code",
   "execution_count": 39,
   "id": "50099ec6-3a4f-4fd7-b782-de61439dd1dc",
   "metadata": {},
   "outputs": [],
   "source": [
    "#your code goes here"
   ]
  },
  {
   "cell_type": "markdown",
   "id": "b36f7bb8-2d1f-4c41-a0e1-f3507cfbd04f",
   "metadata": {},
   "source": [
    "In this example, the loop goes through each item in the **survey_scores** list and prints it.\n",
    "\n",
    "For loops are useful for analyzing data, such as calculating the average monthly income from several months:"
   ]
  },
  {
   "cell_type": "code",
   "execution_count": 37,
   "id": "fcb6bf01-f74a-4bd5-b40b-30be8bfa1e4c",
   "metadata": {},
   "outputs": [],
   "source": [
    "monthly_incomes = [3000, 3200, 3100, 2900, 4000, 3500, 2500, 2900, 3050, 3200, 3500, 2950]\n",
    "#your code goes here"
   ]
  },
  {
   "cell_type": "markdown",
   "id": "068ed965-a899-41dc-a8bb-1a58c2b3464f",
   "metadata": {},
   "source": [
    "In this case, the loop adds up all the monthly incomes and then finds the average by dividing by the number of months."
   ]
  },
  {
   "cell_type": "markdown",
   "id": "82e27165-29e4-4f75-a689-6460de24e896",
   "metadata": {},
   "source": [
    "### Exercise 4 \n",
    "1. You are given a list named populations that contains population numbers (in thousands).\n",
    "2. Use a for loop to add all the population numbers together and store the total in a variable called total_population.\n",
    "3. Calculate the average population by dividing the total population.\n",
    "4. Print the average population rounded to the nearest whole number."
   ]
  },
  {
   "cell_type": "code",
   "execution_count": 38,
   "id": "f2bc351f-7071-450a-ba5d-e108ed840423",
   "metadata": {},
   "outputs": [],
   "source": [
    "populations = [2731, 631, 1135, 934, 1705]\n",
    "\n",
    "#your code goes here"
   ]
  },
  {
   "cell_type": "markdown",
   "id": "ab47fd9b-a4bf-4ba5-be5e-292522b00c63",
   "metadata": {},
   "source": [
    "#### While Loops\n",
    "A while loop continues to execute as long as a specified condition is true. The basic structure looks like this:"
   ]
  },
  {
   "cell_type": "raw",
   "id": "6f2f49d0-77d9-4d5e-805b-a7ab25ef692a",
   "metadata": {},
   "source": [
    "while condition:\n",
    "    # Code to execute while the condition is true"
   ]
  },
  {
   "cell_type": "markdown",
   "id": "ee802d0e-bc48-4180-aac3-df2453111d23",
   "metadata": {},
   "source": [
    "Let’s say we want to keep recording monthly expenses until we have data for five months:"
   ]
  },
  {
   "cell_type": "code",
   "execution_count": 40,
   "id": "01d96030-faed-4acc-bf15-cc262800b5bb",
   "metadata": {},
   "outputs": [],
   "source": [
    "#your code goes here"
   ]
  },
  {
   "cell_type": "markdown",
   "id": "7da8b3b3-118b-4db6-be3f-5c591500a33c",
   "metadata": {},
   "source": [
    "In this example, the loop keeps asking for monthly expenses until it has collected five amounts.\n",
    "\n",
    "While loops are useful for continuous data collection, like tracking monthly donations until reaching a target amount:"
   ]
  },
  {
   "cell_type": "code",
   "execution_count": 41,
   "id": "5c5f89c4-1b55-4595-ae6f-7fd4f1167d16",
   "metadata": {},
   "outputs": [],
   "source": [
    "#your code goes here"
   ]
  },
  {
   "cell_type": "markdown",
   "id": "68ac91fd-cdd3-45d4-bab2-6fbba8db4d9f",
   "metadata": {},
   "source": [
    "### Combining Loops and Conditionals\n",
    "Often, we will need to use both loops and conditionals together to process data effectively. For example, you might want to analyze temperature readings and categorize them within a loop.\n",
    "\n",
    "Let’s categorize a list of temperature readings as *\"Cold,\" \"Warm,\" or \"Hot\"*:"
   ]
  },
  {
   "cell_type": "code",
   "execution_count": 42,
   "id": "fbb7f6c1-74e4-4e53-a10c-00115bc18224",
   "metadata": {},
   "outputs": [],
   "source": [
    "#your code goes here"
   ]
  },
  {
   "cell_type": "markdown",
   "id": "464cb1e6-3570-4ff6-86b8-f09305a9fbc9",
   "metadata": {},
   "source": [
    "In this example, the loop goes through each temperature reading, and the conditional statements categorize each temperature accordingly."
   ]
  },
  {
   "cell_type": "markdown",
   "id": "c68019d9-d355-4128-80ab-3ae2516bb250",
   "metadata": {},
   "source": [
    "Now, let’s say we want to use a loop to analyze data stored in a dictionary. We have a dictionary of historical events and the years they happened. Using a for loop, we can go through each event and year, and use a control structure like an if statement to check whether the event happened before or after 1900."
   ]
  },
  {
   "cell_type": "code",
   "execution_count": 43,
   "id": "25fe86f4-8d88-4cfb-8dd6-eec07fa07e1b",
   "metadata": {},
   "outputs": [],
   "source": [
    "#your code goes here"
   ]
  },
  {
   "cell_type": "markdown",
   "id": "ba808a8f-9076-4104-b75e-48c3450207bb",
   "metadata": {},
   "source": [
    "### Exercise 5\n",
    "You are given a dictionary of universities worldwide with their average graduation rates (in percentages):\n",
    "\n",
    "universities = {\n",
    "    \"Harvard University\": 98,\n",
    "    \n",
    "    \"University of Oxford\": 92,\n",
    "    \n",
    "    \"Stanford University\": 94,\n",
    "    \n",
    "    \"Massachusetts Institute of Technology (MIT)\": 92,\n",
    "    \n",
    "    \"University of Cambridge\": 93,\n",
    "    \n",
    "    \"University of Tokyo\": 70,\n",
    "    \n",
    "    \"University of Melbourne\": 79,\n",
    "    \n",
    "    \"University of Cape Town\": 68,\n",
    "    \n",
    "    \"University of São Paulo\": 65,\n",
    "    \n",
    "    \"National University of Singapore\": 80\n",
    "}\n",
    "\n",
    "**Task:**\n",
    "\n",
    "1. Loop through each university and its graduation rate.\n",
    "2. Print the university name and its graduation rate.\n",
    "3. Use conditional statements to classify the graduation rate:\n",
    "    - 90% or above: print \"Excellent graduation rate\".\n",
    "    - Between 75% and 89% (inclusive): print \"Good graduation rate\".\n",
    "    - Below 75%: print \"Needs improvement\"."
   ]
  },
  {
   "cell_type": "code",
   "execution_count": 44,
   "id": "51876d00-9a0e-4027-b572-de1958eb2222",
   "metadata": {},
   "outputs": [],
   "source": [
    "#your code goes here"
   ]
  }
 ],
 "metadata": {
  "kernelspec": {
   "display_name": "Python 3 (ipykernel)",
   "language": "python",
   "name": "python3"
  },
  "language_info": {
   "codemirror_mode": {
    "name": "ipython",
    "version": 3
   },
   "file_extension": ".py",
   "mimetype": "text/x-python",
   "name": "python",
   "nbconvert_exporter": "python",
   "pygments_lexer": "ipython3",
   "version": "3.12.7"
  }
 },
 "nbformat": 4,
 "nbformat_minor": 5
}
